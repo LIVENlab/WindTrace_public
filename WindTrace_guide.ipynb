{
 "cells": [
  {
   "cell_type": "markdown",
   "id": "ea0578a9-c482-4079-8415-52ff67b75eb4",
   "metadata": {},
   "source": [
    "## About WindTrace\n",
    "WindTrace is a python open-source parametric life-cycle inventory model to create tailor-made inventories of onshore wind turbines and park fleets and assess their environmental impacts. \n",
    "\n",
    "**IMPORTANT**: in order to run WindTrace you must have an Ecoinvent license. WindTrace is currently compatible with Ecoinvent 3.9.1, 3.10 and 3.10.1. \n",
    "\n",
    "More information on GitHub: https://github.com/LIVENlab/WindTrace_public\n",
    "\n",
    "Copyright (c) 2025 LIVEN lab \n",
    "Licensed under the MIT License. See LICENSE for details.\n",
    "This work has been funded by the European Commission though the Horizon Europe project \"JUSTWIND4ALL\" (GA 101083936). "
   ]
  },
  {
   "cell_type": "markdown",
   "id": "4e6ca043-bf38-4006-86b3-be269f511d1c",
   "metadata": {},
   "source": [
    "## WindTrace step-by-step"
   ]
  },
  {
   "cell_type": "markdown",
   "id": "dd07d2fd-a462-4258-a100-0fbce26da4a8",
   "metadata": {},
   "source": [
    "### Outlook\n",
    "#### 1. Create environment and install the requirements\n",
    "#### 2. Set consts.py variables\n",
    "#### 3. Create/open a brightway project\n",
    "#### 4. Creating life-cycle inventories\n",
    "##### 4.1 Example of application\n",
    "##### 4.2 Exploring the inventories\n",
    "##### 4.3 Calculating LCIA scores\n",
    "##### 4.4 Another example with land use focus\n",
    "##### 4.5 Creating a future wind park"
   ]
  },
  {
   "cell_type": "markdown",
   "id": "d36451e8-610f-440a-b818-7e5e8ae9421c",
   "metadata": {},
   "source": [
    "### 1. Create environment and install the requirements"
   ]
  },
  {
   "cell_type": "markdown",
   "id": "687fb996-6798-44a6-98ed-208be15691a4",
   "metadata": {},
   "source": [
    "Open the conda console and run the following line. Be sure you are in the folder where the environment.yml file is saved.\n",
    "```ruby\n",
    "conda env create -f environment.yml \n",
    "```\n",
    "This will create a new environment called 'windtrace_env' with all the packages you need to run this Jupyter Notebook already installed. \\\n",
    "Make sure to activate this environment before running this Notebook. Be also sure you have anaconda or miniconda installed in your computer. "
   ]
  },
  {
   "cell_type": "markdown",
   "id": "63a25608-2d8d-44f4-a48c-b31dc6f3451d",
   "metadata": {},
   "source": [
    "### 2. Set consts.py variables"
   ]
  },
  {
   "cell_type": "markdown",
   "id": "ade15cfb-f496-47c6-ab11-c9373bfb088d",
   "metadata": {},
   "source": [
    "**IMPORTANT**: Before running anything, in the file consts.py set the following variables: PROJECT_NAME, SPOLD_FILES, and NEW_DB_NAME.\n",
    "- PROJECT_NAME: name of the brightway project to be used.\n",
    "- SPOLD_FILES: folder path where you have the Spoldfiles from Ecoinvent in your local disk. ONLY IF YOU DO NOT USE THE ecoinvent_interface PACKAGE\n",
    "- NEW_DB_NAME: name of the databes where all the new wind turbine inventories you create will be stored.\n"
   ]
  },
  {
   "cell_type": "markdown",
   "id": "9cd66784-0150-4b7b-8c8d-835c50138ab9",
   "metadata": {},
   "source": [
    "### 3. Create/open a brightway project\n",
    "You first need to import the necessary packages:"
   ]
  },
  {
   "cell_type": "code",
   "id": "0aee97f4-3b7a-45e6-9d91-db71c16cc013",
   "metadata": {},
   "source": [
    "import bw2io as bi\n",
    "from WindTrace_onshore import *"
   ],
   "outputs": [],
   "execution_count": null
  },
  {
   "cell_type": "markdown",
   "source": [
    "Then the first step is to set the Brightway project where you will work. "
   ],
   "metadata": {
    "collapsed": false
   },
   "id": "bb50f705f294917f"
  },
  {
   "cell_type": "code",
   "id": "b5e105f2-7f16-480d-ae97-04d4ba94a500",
   "metadata": {},
   "source": [
    "bd.projects.set_current(consts.PROJECT_NAME)\n",
    "bi.bw2setup()"
   ],
   "outputs": [],
   "execution_count": null
  },
  {
   "cell_type": "markdown",
   "source": [
    "Once you have set your BW project, you can import the Ecoinvent database you need (if it is not already present).\n",
    "You may do this with one of these two options: \n",
    "<br> \n",
    "#### Option 1: Adding ecoinvent from local directory\n",
    "If you are using this option, then you need to provide the path to the folder where you have the spold files in the consts.py file."
   ],
   "metadata": {
    "collapsed": false
   },
   "id": "4d1abbb154961f52"
  },
  {
   "metadata": {},
   "cell_type": "code",
   "source": [
    "spold_files = consts.SPOLD_FILES\n",
    "if \"cutoff391\" not in bd.databases:\n",
    "    ei = bi.SingleOutputEcospold2Importer(spold_files, \"cutoff391\", use_mp=False)\n",
    "    ei.apply_strategies()\n",
    "    ei.write_database()\n",
    "if consts.NEW_DB_NAME not in bd.databases:\n",
    "    new_db = bd.Database(consts.NEW_DB_NAME)\n",
    "    new_db.register()"
   ],
   "id": "1c296c51-88e3-483e-8a2e-f5788837e458",
   "outputs": [],
   "execution_count": null
  },
  {
   "metadata": {},
   "cell_type": "markdown",
   "source": [
    "#### Option 2. Adding ecoinvent with the Ecoinvent interface\n",
    "Alternatively, you can also use ecoinvent_interface to download and install the Ecoinvent databases that you wish among versions 3.9.1, 3.10 and 3.10.1.\n",
    "\n",
    "You need to provide your username and password to access ecoinvent"
   ],
   "id": "35b5aa7fb8d1eab0"
  },
  {
   "metadata": {},
   "cell_type": "code",
   "source": [
    "from ecoinvent_interface import Settings, permanent_setting, EcoinventRelease, ReleaseType\n",
    "import os\n",
    "\n",
    "bd.projects.set_current(consts.PROJECT_NAME)\n",
    "\n",
    "SYSTEM_MODEL = \"cutoff\"\n",
    "# This will install the biosphere and technosphere for Ecoinvent versions 3.9.1, 3.10 and 3.10.1. In case you \n",
    "# only want to work with one of the versions, eliminate the others from the list\n",
    "EI_RELEASE_VERSIONS = [\"3.9.1\", \"3.10\", \"3.10.1\"]\n",
    "FILE_REPOSITORY = r'YOUR_FILE_PATH'  # add the path where you would like to save the Ecoinvent databases\n",
    "\n",
    "permanent_setting(\"username\", \"YOUR_USERNAME\")  # change for your Ecoinvent username\n",
    "permanent_setting(\"password\", \"YOUR_PASSWORD\")  #change for your Ecoinvent password\n",
    "permanent_setting(\"output_path\", FILE_REPOSITORY)\n",
    "\n",
    "\n",
    "# this will download the Ecoinvent database/s for the versions you specified and write them in your brightway25 project\n",
    "my_settings = Settings()\n",
    "release = EcoinventRelease(my_settings)\n",
    "\n",
    "for release_version in EI_RELEASE_VERSIONS:\n",
    "    eidb_name = f'eidb_{release_version}'\n",
    "    biodb_name = f\"biosphere_{release_version}\"\n",
    "    release_dir = os.path.join(FILE_REPOSITORY, f'{release_version}_ecoSpold02')\n",
    "    if not os.path.exists(release_dir):\n",
    "        release.get_release(release_version, SYSTEM_MODEL, ReleaseType.ecospold)\n",
    "    else:\n",
    "        print(f\"Release already exists at {release_dir}\")\n",
    "    try:\n",
    "        bi.import_ecoinvent_release(release_version, SYSTEM_MODEL, use_mp=False)\n",
    "        print(f\"Ecoinvent {release_version} ({SYSTEM_MODEL}) imported successfully!\")\n",
    "    except Exception as e:\n",
    "        print(f\"Failed to import ecoinvent release: {e}\")"
   ],
   "id": "f0f219466a4cc02a",
   "outputs": [],
   "execution_count": null
  },
  {
   "metadata": {},
   "cell_type": "markdown",
   "source": [
    "Now the database where the turbine inventories will be installed (new_db), the biosphere database (biosphere) and the ecoinvent database (ei_cutoff) must be initialised. \\\n",
    "**IMPORTANT**: note that the name of the database will change depending if you used the conventional bi.bw2setup() or ecoinvent_interface to install your databases."
   ],
   "id": "690b6f0ddb0bdda2"
  },
  {
   "metadata": {},
   "cell_type": "code",
   "source": [
    "new_db = bd.Database(consts.NEW_DB_NAME)\n",
    "biosphere = bd.Database('biosphere3')  # change for \"ecoinvent-3.10-biosphere\" if you are using ecoinvent 3.10 from ecoinvent_interface\n",
    "ei_cutoff = bd.Database(\"cutoff391\")  # change for \"ecoinvent-3.10-cutoff\" if you are using ecoinvent 3.10 from ecoinvent_interface"
   ],
   "id": "f0823ba5afbe9cec",
   "outputs": [],
   "execution_count": null
  },
  {
   "cell_type": "markdown",
   "id": "f2da1eee-5349-4411-8457-86ea47d4f41a",
   "metadata": {},
   "source": [
    "### 4. Creating life-cycle inventories"
   ]
  },
  {
   "cell_type": "markdown",
   "id": "99e0d5f8-3009-4075-abc7-b4932d1a7655",
   "metadata": {},
   "source": [
    "The function allowing to create customized inventories is **lci_wind_turbine()**, which admits the following parameters:\n",
    "| Parameter                     | Description                                                                  | Default                             | Type |\n",
    "|------------------------------|------------------------------------------------------------------------------|-------------------------------------|------|\n",
    "| Park name                    | Name of the wind park                                                        | *Required*                          | `str` |\n",
    "| Park power                   | Total power of the wind park (MW)                                            | *Required*                          | `float` |\n",
    "| Number of turbines           | Number of turbines in the wind park                                          | *Required*                          | `int` |\n",
    "| Park location                | Country code (ISO 3166-1 alpha-2)                                            | *Required*                          | `str` |\n",
    "| Park coordinates             | Latitude and longitude (WGS84)                                               | *Required*                          | `tuple` |\n",
    "| Manufacturer                 | Turbine manufacturer                                                         | `LM Wind`                           | `'LM Wind'`, `'Vestas'`, `'Siemens Gamesa'`, `'Enercon'`, `'Nordex'` |\n",
    "| Rotor diameter               | Rotor diameter (m)                                                           | *Required*                          | `int` |\n",
    "| Turbine rated power          | Nominal power per turbine (MW)                                               | *Required*                          | `float` |\n",
    "| Hub height                   | Turbine hub height (m)                                                        | *Required*                          | `float` |\n",
    "| Regression adjustment        | Steel mass as function of `D2h` or `Hub height`                              | `D2h`                               | `'D2h'`, `'Hub height'` |\n",
    "| Commissioning year           | Year turbine started operation                                               | *Required*                          | `int` |\n",
    "| Recycled steel share         | Recycled content share of steel                                              | Eurofer data (2012–2021)            | `float` |\n",
    "| Land use permanent intensity | Permanent land transformation per MW (m²/MW)                                 | `3000`                              | `float` |\n",
    "| Electricity mix steel        | Electricity mix for steel production                                         | Eurofer country mix                 | `'Norway'`, `'Europe'`, `'Poland'` *(optional)* |\n",
    "| Generator type               | Gearbox and generator type                                                   | `Doubly fed induction generator`    | `'dd_eesg'`, `'dd_pmsg'`, `'gb_pmsg'`, `'gb_dfig'` *(optional)* |\n",
    "| Land cover type              | Land cover before installation                                               | *Required*                          | `'crops, non-irrigated'`, `'grassland'`, `'road'`, etc. |\n",
    "| End-of-life scenario         | Material recycling scenario: <br> `1`: baseline<br> `2`: optimistic<br> `3`: pessimistic | `Baseline` | `str` |\n",
    "| Lifetime                     | Expected lifetime of the turbine (years)                                     | `20`                                | `int` |\n",
    "| Capacity factor              | Avg. delivered electricity / theoretical max                                 | `0.24`                              | `float` |\n",
    "| Attrition rate               | Annual performance degradation                                               | `0.009`                             | `float` |\n",
    "\n",
    "\n",
    "Parameters without a default value must be filled. Parameters with a default value are not compulsory but can be adapted to the user needs."
   ]
  },
  {
   "cell_type": "markdown",
   "id": "6838a86a-3d5c-47ca-a9ea-35458f4c5111",
   "metadata": {},
   "source": [
    "### 4.1. Example of application"
   ]
  },
  {
   "cell_type": "markdown",
   "id": "dd10bf67-a213-4929-9b90-cf2ae7051213",
   "metadata": {},
   "source": [
    "Let's build an imaginary 100 MW wind park ('my_wind_park') of 20 turbines, 5 MW each, in a random location in Spain. \\\n",
    "The manufacturer of the turbine is Siemens Gamesa, with turbines of 130 m rotor diameter, 140 m hub height and a gear-boxed double-fed induction generation drivetrain. \\\n",
    "The park is commissioned in 2020 and is expected to last for 25 years. \\\n",
    "The expected initial capacity factor is 24%. \\\n",
    "**IMPORTANT**: make sure the name you give to the park (park_name variable) has not been used previously in your database! This means, you cannot create two wind parks with the exact same name in the same database."
   ]
  },
  {
   "cell_type": "code",
   "id": "a364614c-c223-4c02-b04d-308c070c2ff6",
   "metadata": {},
   "source": [
    "lci_wind_turbine(park_name='my_wind_park', \n",
    "                 park_power=100.0, \n",
    "                 number_of_turbines=20, \n",
    "                 park_location='ES', \n",
    "                 park_coordinates=(41.502, -1.126), \n",
    "                 manufacturer='Siemens Gamesa', \n",
    "                 rotor_diameter=130, \n",
    "                 turbine_power=5.0, \n",
    "                 hub_height=140, \n",
    "                 commissioning_year=2020, \n",
    "                 generator_type='gb_dfig',\n",
    "                 lifetime=25,  \n",
    "                 cf=0.24,\n",
    "                 new_db=new_db,\n",
    "                 biosphere3=biosphere,\n",
    "                 cutoff391=ei_cutoff\n",
    "                )"
   ],
   "outputs": [],
   "execution_count": null
  },
  {
   "cell_type": "markdown",
   "source": [
    "If you need to delete the new database: \n",
    "WARNING: All inventories created will be deleted!!"
   ],
   "metadata": {
    "collapsed": false
   },
   "id": "4fe3f346b690ad19"
  },
  {
   "cell_type": "code",
   "execution_count": null,
   "outputs": [],
   "source": [
    "#delete_new_db() # Uncomment this line to delete the new database"
   ],
   "metadata": {
    "collapsed": false
   },
   "id": "e886a76f1531d440"
  },
  {
   "cell_type": "markdown",
   "id": "df37f68a-1880-440e-8d26-47e00e647eff",
   "metadata": {},
   "source": [
    "### 4.2 Exploring the inventories"
   ]
  },
  {
   "cell_type": "markdown",
   "id": "53392a0c-2387-4605-9dd4-371cce59892f",
   "metadata": {},
   "source": [
    "The inventories are given by unit of turbine, unit of park, and kWh (for both turbine and park). In this example, the inventoris would have the following names (and codes):\n",
    "\n",
    "- Turbine (FU=unit): my_wind_park_single_turbine\n",
    "- Turbine (FU=kWh): my_wind_park_turbine_kwh\n",
    "- Park (FU=unit): my_wind_park_10.0\n",
    "- Park (FU=kWh): my_wind_park_kwh\n",
    "\n",
    "You can access them as follows:"
   ]
  },
  {
   "cell_type": "code",
   "id": "f2d64f15-b76c-4afc-9a81-a223205f6f39",
   "metadata": {},
   "source": [
    "# park (FU=unit)\n",
    "park_unit_act = bd.Database(consts.NEW_DB_NAME).get('my_wind_park_100.0')\n",
    "park_kwh_act = bd.Database(consts.NEW_DB_NAME).get('my_wind_park_park_kwh')\n",
    "turbine_unit_act = bd.Database(consts.NEW_DB_NAME).get('my_wind_park_single_turbine')\n",
    "turbine_kwh_act = bd.Database(consts.NEW_DB_NAME).get('my_wind_park_turbine_kwh')"
   ],
   "outputs": [],
   "execution_count": null
  },
  {
   "metadata": {},
   "cell_type": "markdown",
   "source": [
    "Altrnatively, if your interest is only the materials of one turbine, you can access them with the following code (and name):\n",
    "- Turbine materials: my_wind_park_materials"
   ],
   "id": "d4fb4f4dd6b38ddb"
  },
  {
   "metadata": {},
   "cell_type": "code",
   "source": [
    "turbine_act = bd.Database(consts.NEW_DB_NAME).get('my_wind_park_materials')\n",
    "for ex in turbine_act.technosphere():\n",
    "    print(f'{ex.input[\"name\"]}: {ex[\"amount\"]} ({ex.unit})')\n",
    "# Note that steel and chromium steel appear both twice. The first appearance corresponds to the turbine, and the second one to the foundations."
   ],
   "id": "7fede6f83d7c7ab4",
   "outputs": [],
   "execution_count": null
  },
  {
   "cell_type": "markdown",
   "id": "b8ec0a33-add1-4ca4-b97e-6b559ba08175",
   "metadata": {},
   "source": [
    "### 4.3 Calculating LCIA scores"
   ]
  },
  {
   "cell_type": "markdown",
   "id": "da3392af-4075-45d8-9326-05fae5b0a7f3",
   "metadata": {},
   "source": [
    "LCA impacts of a park or an individual turbine of the park can be calculated with lca_wind_turbine(). It returns two dictionaries: the first one being results per unit and the second one being results per kWh. Default results are given per turbine. For the whole park, you must set the parameter 'turbine' to False. ReCiPe 2016 v1.03, midpoint (H) is the default LCIA method. It can be manually changed by giving the parameter 'method' another name of a method in Brightway.\n",
    "\n",
    "Here an example of application for the whole park. The first dictionary saves scores per FU=unit, and the second per FU=1kWh"
   ]
  },
  {
   "cell_type": "code",
   "id": "9c7b4a9c-3ef1-4fd8-9c0f-28ae212c0368",
   "metadata": {},
   "source": [
    "lcia_scores_unit, lcia_scores_kwh = lca_wind_turbine(park_name='my_wind_park', park_power=100.0, method='EF v3.1', turbine=False, new_db=new_db)\n",
    "print(f'LCIA scores for (FU = one wind park unit) {lcia_scores_unit}')\n",
    "print(f'LCIA scores for (FU = one kwh) {lcia_scores_kwh}')"
   ],
   "outputs": [],
   "execution_count": null
  },
  {
   "cell_type": "markdown",
   "id": "ea8619d7-453f-413a-a3e8-3b5a60530814",
   "metadata": {},
   "source": [
    "Alternatively, you can give it a certain set of indicators of your choice as a list with the variable 'indicators'. Example:"
   ]
  },
  {
   "cell_type": "code",
   "id": "72ce1451-3bf7-4167-8392-cb1bcc93b258",
   "metadata": {},
   "source": [
    "lcia_scores_unit, lcia_scores_kwh = lca_wind_turbine(park_name='my_wind_park', park_power=100.0, method='EF v3.1', \n",
    "                               indicators=[('CML v4.8 2016 no LT', 'acidification no LT', 'acidification (incl. fate, average Europe total, A&B) no LT'), \n",
    "                                           ('Cumulative Energy Demand (CED)', 'energy resources: renewable', 'energy content (HHV)'),\n",
    "                                           ('Ecological Scarcity 2021 no LT', 'climate change no LT', 'global warming potential (GWP100) no LT')\n",
    "                                          ], \n",
    "                               turbine=False, new_db=new_db)\n",
    "print(f'LCIA scores for (FU = one wind park unit) {lcia_scores_unit}')\n",
    "print(f'LCIA scores for (FU = one kwh) {lcia_scores_kwh}')"
   ],
   "outputs": [],
   "execution_count": null
  },
  {
   "cell_type": "markdown",
   "id": "edfd48cd-7d1e-408d-9928-a99866d55b0f",
   "metadata": {},
   "source": [
    "### 4.4 Another example with land use focus"
   ]
  },
  {
   "cell_type": "markdown",
   "id": "99600baa-9e7c-43de-85cf-50d884a56331",
   "metadata": {},
   "source": [
    "Now let's build another wind park changing a bit the land use related parameters. Let's say we know the original land where the turbine will be built is a pasture. Let's say we also know that the permanent land use intensity is smaller than the default number we use. This parameter should include the squared meters per MW of land that will be occupied by permanent access roads, transformer, substation and the turbines themselves. We will use an intensity of 1000 m2/MW this time."
   ]
  },
  {
   "cell_type": "code",
   "id": "16719762-6078-4e50-8754-829ef4054f28",
   "metadata": {},
   "source": [
    "lci_wind_turbine(park_name='my_wind_park_LandUse', \n",
    "                 park_power=100.0, \n",
    "                 number_of_turbines=20, \n",
    "                 park_location='ES', \n",
    "                 park_coordinates=(41.502, -1.126), \n",
    "                 manufacturer='Siemens Gamesa', \n",
    "                 rotor_diameter=130, \n",
    "                 turbine_power=5.0, \n",
    "                 hub_height=140, \n",
    "                 commissioning_year=2020, \n",
    "                 generator_type='gb_dfig',  \n",
    "                 lifetime=25,  \n",
    "                 cf=0.24,\n",
    "                 land_use_permanent_intensity=1000,\n",
    "                 land_cover_type='pasture',\n",
    "                 new_db=new_db,\n",
    "                 biosphere3=biosphere,\n",
    "                 cutoff391=ei_cutoff\n",
    "                )"
   ],
   "outputs": [],
   "execution_count": null
  },
  {
   "cell_type": "markdown",
   "id": "32f9198b-3627-4892-818d-481d79611886",
   "metadata": {},
   "source": [
    "And compare the land-use impacts with the previous wind park we created:"
   ]
  },
  {
   "cell_type": "code",
   "id": "af0704fc-3122-4962-ab77-43e02eb33d9c",
   "metadata": {},
   "source": [
    "previous_park_score_unit, previous_park_score_kwh = lca_wind_turbine(park_name='my_wind_park', park_power=100.0, method='EF v3.1', \n",
    "                               indicators=[('EF v3.1', 'land use', 'soil quality index')\n",
    "                                          ], \n",
    "                               turbine=False, new_db=new_db)\n",
    "new_park_score_unit, new_park_score_kwh  = lca_wind_turbine(park_name='my_wind_park_LandUse', park_power=100.0, method='EF v3.1', \n",
    "                               indicators=[('EF v3.1', 'land use', 'soil quality index')\n",
    "                                          ], \n",
    "                               turbine=False, new_db=new_db)\n",
    "print(f'Land Use score previous park (FU=one park): {previous_park_score_unit}; (FU=1kWh): {previous_park_score_kwh}')\n",
    "print(f'Land Use score new park(FU=one park): {new_park_score_unit}; (FU=1kWh): {new_park_score_kwh}')"
   ],
   "outputs": [],
   "execution_count": null
  },
  {
   "cell_type": "markdown",
   "id": "f91c4052-316f-4cd0-9c19-1fc718f78358",
   "metadata": {},
   "source": [
    "### 4.5 Creating a future wind park"
   ]
  },
  {
   "cell_type": "markdown",
   "id": "fd77e9f3-d492-4c90-b922-12b8f016288c",
   "metadata": {},
   "source": [
    "There are some input variables that allow to model more 'futuristic' wind turbine designs. For instance, if the turbine you are designing is going to be installed 10 years from now, you may want to consider that the steel industry (with a huge impact in wind turbines) has improved its recycling shares, and is using a cleaner electricity mix. Moreover, you can adapt the end-of-life scenario to consider optimistic recycling rates. Finally, you may want to add a higher capacity factor (due to, for instance, technichal improvements). A summary of how would this be implemented:\n",
    "- Steel recycling rate improvement: recycled_share_steel=0.6 (European recycled steel share in 2021 was 0.435)\n",
    "- Steel electricity mix improvement: electricity_mix_steel='Norway' (only options: 'Norway', 'Europe', 'Poland')\n",
    "- Optimistic recycling rates (rr): eol_scenario=2 (eol_scenario=1 means current rr, eol_scenario=2 means optimistic rr, eol_scenario=3 means pessimistic rr)\n",
    "- Higher capacity factor: cf=0.4 (This is a 40%. The European mean in 2024 was 24%)"
   ]
  },
  {
   "cell_type": "code",
   "id": "d935e5a2-45e8-48f5-aeeb-29061b2c1cc2",
   "metadata": {},
   "source": [
    "lci_wind_turbine(park_name='my_wind_park_future',\n",
    "                 park_power=100.0,\n",
    "                 number_of_turbines=20,\n",
    "                 park_location='ES',\n",
    "                 park_coordinates=(41.502, -1.126),\n",
    "                 manufacturer='Siemens Gamesa',\n",
    "                 rotor_diameter=130,\n",
    "                 turbine_power=5.0,\n",
    "                 hub_height=140,\n",
    "                 commissioning_year=2030,\n",
    "                 generator_type='gb_dfig',\n",
    "                 lifetime=25,\n",
    "                 cf=0.40,\n",
    "                 eol_scenario=2,\n",
    "                 electricity_mix_steel='Norway',\n",
    "                 recycled_share_steel=0.6,\n",
    "                 new_db=new_db,\n",
    "                 biosphere3=biosphere,\n",
    "                 cutoff391=ei_cutoff\n",
    "                )"
   ],
   "outputs": [],
   "execution_count": null
  },
  {
   "metadata": {},
   "cell_type": "markdown",
   "source": [
    "And compare climate change impacts with the previous turbine modelled in section 4.1 in this notebook:"
   ],
   "id": "cc1dbc063cf263be"
  },
  {
   "metadata": {},
   "cell_type": "code",
   "source": [
    "previous_park_score_unit, previous_park_score_kwh = lca_wind_turbine(park_name='my_wind_park', park_power=100.0, method='EF v3.1',\n",
    "                               indicators=[('EF v3.1', 'climate change', 'global warming potential (GWP100)')\n",
    "                                          ],\n",
    "                               turbine=False, new_db=new_db)\n",
    "new_park_score_unit, new_park_score_kwh  = lca_wind_turbine(park_name='my_wind_park_future', park_power=100.0, method='EF v3.1',\n",
    "                               indicators=[('EF v3.1', 'climate change', 'global warming potential (GWP100)')\n",
    "                                          ],\n",
    "                               turbine=False, new_db=new_db)\n",
    "print(f'Climate Change score previous park (FU=one park): {previous_park_score_unit}; (FU=1kWh): {previous_park_score_kwh}')\n",
    "print(f'Climate Change score new park(FU=one park): {new_park_score_unit}; (FU=1kWh): {new_park_score_kwh}')"
   ],
   "id": "673c80c439339385",
   "outputs": [],
   "execution_count": null
  }
 ],
 "metadata": {
  "kernelspec": {
   "display_name": "Python 3 (ipykernel)",
   "language": "python",
   "name": "python3"
  },
  "language_info": {
   "codemirror_mode": {
    "name": "ipython",
    "version": 3
   },
   "file_extension": ".py",
   "mimetype": "text/x-python",
   "name": "python",
   "nbconvert_exporter": "python",
   "pygments_lexer": "ipython3",
   "version": "3.12.5"
  }
 },
 "nbformat": 4,
 "nbformat_minor": 5
}
