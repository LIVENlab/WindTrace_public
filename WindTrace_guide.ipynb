{
 "cells": [
  {
   "cell_type": "markdown",
   "id": "ea0578a9-c482-4079-8415-52ff67b75eb4",
   "metadata": {},
   "source": [
    "## About WindTrace\n",
    "WindTrace is a python open-source parametric life-cycle inventory model to create tailor-made inventories of onshore wind turbines and park fleets and assess their environmental impacts. \\\n",
    "**IMPORTANT**: in order to run WindTrace you must have an Ecoinvent license. WindTrace is currently compatible with Ecoinvent 3.9.1, 3.10 and 3.10.1. \\\n",
    "The model is only compatible with the **cutoff** model. \\\n",
    "More information on GitHub: https://github.com/LIVENlab/WindTrace_public\n",
    "\n",
    "Copyright (c) 2025 LIVEN lab \\\n",
    "Licensed under the MIT License. See LICENSE for details."
   ]
  },
  {
   "cell_type": "markdown",
   "id": "4e6ca043-bf38-4006-86b3-be269f511d1c",
   "metadata": {},
   "source": [
    "## WindTrace step-by-step"
   ]
  },
  {
   "cell_type": "markdown",
   "id": "dd07d2fd-a462-4258-a100-0fbce26da4a8",
   "metadata": {},
   "source": [
    "### Outlook\n",
    "#### 1. Create environment and install the requirements\n",
    "#### 2. Set consts.py variables\n",
    "#### 3. Create/open a brightway project\n",
    "#### 4. Creating life-cycle inventories\n",
    "##### 4.1 Example of application\n",
    "##### 4.2 Exploring the inventories\n",
    "##### 4.3 Calculating LCIA scores\n",
    "##### 4.4 Another example with land use focus\n",
    "##### 4.5 Creating a future wind park"
   ]
  },
  {
   "cell_type": "markdown",
   "id": "d36451e8-610f-440a-b818-7e5e8ae9421c",
   "metadata": {},
   "source": [
    "### 1. Create environment and install the requirements"
   ]
  },
  {
   "cell_type": "markdown",
   "id": "687fb996-6798-44a6-98ed-208be15691a4",
   "metadata": {},
   "source": [
    "Open the conda console and run the following line. Be sure you are in the folder where the environment.yml file is saved.\n",
    "```ruby\n",
    "conda env create -f environment.yml \n",
    "```\n",
    "This will create a new environment called 'windtrace_env' with all the packages you need to run this Jupyter Notebook already installed. \\\n",
    "Make sure to activate this environment before running this Notebook."
   ]
  },
  {
   "cell_type": "markdown",
   "id": "63a25608-2d8d-44f4-a48c-b31dc6f3451d",
   "metadata": {},
   "source": [
    "### 2. Set consts.py variables"
   ]
  },
  {
   "cell_type": "markdown",
   "id": "ade15cfb-f496-47c6-ab11-c9373bfb088d",
   "metadata": {},
   "source": [
    "**IMPORTANT**: Before running anything, in the file consts.py set the following variables: PROJECT_NAME, SPOLD_FILES, and NEW_DB_NAME.\n",
    "- PROJECT_NAME: name of the brightway project to be used.\n",
    "- SPOLD_FILES: folder path where you have the Spoldfiles from Ecoinvent in your local disk. ONLY IF YOU DO NOT USE THE ecoinvent_interface PACKAGE\n",
    "- NEW_DB_NAME: name of the databes where all the new wind turbine inventories you creeated will be stored."
   ]
  },
  {
   "cell_type": "markdown",
   "id": "9cd66784-0150-4b7b-8c8d-835c50138ab9",
   "metadata": {},
   "source": [
    "### 3. Create/open a brightway project"
   ]
  },
  {
   "cell_type": "code",
   "id": "0aee97f4-3b7a-45e6-9d91-db71c16cc013",
   "metadata": {
    "ExecuteTime": {
     "end_time": "2025-06-12T10:11:02.714800Z",
     "start_time": "2025-06-12T10:11:02.709861Z"
    }
   },
   "source": [
    "import bw2io as bi\n",
    "from WindTrace_onshore import *"
   ],
   "outputs": [],
   "execution_count": 5
  },
  {
   "cell_type": "code",
   "id": "b5e105f2-7f16-480d-ae97-04d4ba94a500",
   "metadata": {
    "ExecuteTime": {
     "end_time": "2025-06-12T10:11:29.137331Z",
     "start_time": "2025-06-12T10:11:04.335081Z"
    }
   },
   "source": [
    "bd.projects.set_current(consts.PROJECT_NAME)\n",
    "bi.bw2setup()\n",
    "consts.PROJECT_NAME\n"
   ],
   "outputs": [
    {
     "name": "stdout",
     "output_type": "stream",
     "text": [
      "Creating default biosphere\n",
      "\n",
      "Applying strategy: normalize_units\n",
      "Applying strategy: drop_unspecified_subcategories\n",
      "Applying strategy: ensure_categories_are_tuples\n",
      "Applied 3 strategies in 0.01 seconds\n"
     ]
    },
    {
     "name": "stderr",
     "output_type": "stream",
     "text": [
      "100%|██████████| 4709/4709 [00:00<00:00, 28145.16it/s]\n"
     ]
    },
    {
     "name": "stdout",
     "output_type": "stream",
     "text": [
      "12:11:07+0200 [info     ] Vacuuming database            \n",
      "Created database: biosphere3\n",
      "Creating default LCIA methods\n",
      "\n"
     ]
    },
    {
     "ename": "ValueError",
     "evalue": "Can't understand elementary flow identifier ['biosphere3', '9990b51b-7023-4700-bca0-1a32ef921f74'] in data line (['biosphere3', '9990b51b-7023-4700-bca0-1a32ef921f74'], 1.6)",
     "output_type": "error",
     "traceback": [
      "\u001B[31m---------------------------------------------------------------------------\u001B[39m",
      "\u001B[31mValueError\u001B[39m                                Traceback (most recent call last)",
      "\u001B[36mCell\u001B[39m\u001B[36m \u001B[39m\u001B[32mIn[6]\u001B[39m\u001B[32m, line 2\u001B[39m\n\u001B[32m      1\u001B[39m bd.projects.set_current(consts.PROJECT_NAME)\n\u001B[32m----> \u001B[39m\u001B[32m2\u001B[39m bi.bw2setup()\n\u001B[32m      3\u001B[39m consts.PROJECT_NAME\n",
      "\u001B[36mFile \u001B[39m\u001B[32m~\\AppData\\Local\\miniforge3\\envs\\windtrace_env\\Lib\\site-packages\\bw2io\\__init__.py:170\u001B[39m, in \u001B[36mbw2setup\u001B[39m\u001B[34m()\u001B[39m\n\u001B[32m    168\u001B[39m create_default_biosphere3()\n\u001B[32m    169\u001B[39m \u001B[38;5;28mprint\u001B[39m(\u001B[33m\"\u001B[39m\u001B[33mCreating default LCIA methods\u001B[39m\u001B[38;5;130;01m\\n\u001B[39;00m\u001B[33m\"\u001B[39m)\n\u001B[32m--> \u001B[39m\u001B[32m170\u001B[39m create_default_lcia_methods()\n\u001B[32m    171\u001B[39m \u001B[38;5;28mprint\u001B[39m(\u001B[33m\"\u001B[39m\u001B[33mCreating core data migrations\u001B[39m\u001B[38;5;130;01m\\n\u001B[39;00m\u001B[33m\"\u001B[39m)\n\u001B[32m    172\u001B[39m create_core_migrations()\n",
      "\u001B[36mFile \u001B[39m\u001B[32m~\\AppData\\Local\\miniforge3\\envs\\windtrace_env\\Lib\\site-packages\\bw2io\\__init__.py:152\u001B[39m, in \u001B[36mcreate_default_lcia_methods\u001B[39m\u001B[34m(overwrite, rationalize_method_names, shortcut)\u001B[39m\n\u001B[32m    150\u001B[39m     ei = LCIAImporter(\u001B[33m\"\u001B[39m\u001B[33mlcia_39_ecoinvent.zip\u001B[39m\u001B[33m\"\u001B[39m)\n\u001B[32m    151\u001B[39m     ei.data = data\n\u001B[32m--> \u001B[39m\u001B[32m152\u001B[39m     ei.write_methods(overwrite=overwrite)\n\u001B[32m    153\u001B[39m \u001B[38;5;28;01melse\u001B[39;00m:\n\u001B[32m    154\u001B[39m     \u001B[38;5;28;01mfrom\u001B[39;00m\u001B[38;5;250m \u001B[39m\u001B[34;01m.\u001B[39;00m\u001B[34;01mimporters\u001B[39;00m\u001B[38;5;250m \u001B[39m\u001B[38;5;28;01mimport\u001B[39;00m EcoinventLCIAImporter\n",
      "\u001B[36mFile \u001B[39m\u001B[32m~\\AppData\\Local\\miniforge3\\envs\\windtrace_env\\Lib\\site-packages\\bw2io\\importers\\base_lcia.py:77\u001B[39m, in \u001B[36mLCIAImporter.write_methods\u001B[39m\u001B[34m(self, overwrite, verbose)\u001B[39m\n\u001B[32m     71\u001B[39m         method = Method(ds[\u001B[33m\"\u001B[39m\u001B[33mname\u001B[39m\u001B[33m\"\u001B[39m])\n\u001B[32m     72\u001B[39m         method.register(\n\u001B[32m     73\u001B[39m             description=ds[\u001B[33m\"\u001B[39m\u001B[33mdescription\u001B[39m\u001B[33m\"\u001B[39m],\n\u001B[32m     74\u001B[39m             filename=ds[\u001B[33m\"\u001B[39m\u001B[33mfilename\u001B[39m\u001B[33m\"\u001B[39m],\n\u001B[32m     75\u001B[39m             unit=ds[\u001B[33m\"\u001B[39m\u001B[33munit\u001B[39m\u001B[33m\"\u001B[39m],\n\u001B[32m     76\u001B[39m         )\n\u001B[32m---> \u001B[39m\u001B[32m77\u001B[39m         method.write(\u001B[38;5;28mself\u001B[39m._reformat_cfs(ds[\u001B[33m\"\u001B[39m\u001B[33mexchanges\u001B[39m\u001B[33m\"\u001B[39m]))\n\u001B[32m     78\u001B[39m         method.process()\n\u001B[32m     79\u001B[39m \u001B[38;5;28;01mif\u001B[39;00m verbose:\n",
      "\u001B[36mFile \u001B[39m\u001B[32m~\\AppData\\Local\\miniforge3\\envs\\windtrace_env\\Lib\\site-packages\\bw2data\\method.py:115\u001B[39m, in \u001B[36mMethod.write\u001B[39m\u001B[34m(self, data, process)\u001B[39m\n\u001B[32m    112\u001B[39m     \u001B[38;5;28;01melse\u001B[39;00m:\n\u001B[32m    113\u001B[39m         \u001B[38;5;28;01mreturn\u001B[39;00m \u001B[38;5;28mtuple\u001B[39m(line)\n\u001B[32m--> \u001B[39m\u001B[32m115\u001B[39m data = [normalize_ids(line) \u001B[38;5;28;01mfor\u001B[39;00m line \u001B[38;5;129;01min\u001B[39;00m data]\n\u001B[32m    116\u001B[39m third = \u001B[38;5;28;01mlambda\u001B[39;00m x: x[\u001B[32m2\u001B[39m] \u001B[38;5;28;01mif\u001B[39;00m \u001B[38;5;28mlen\u001B[39m(x) == \u001B[32m3\u001B[39m \u001B[38;5;28;01melse\u001B[39;00m \u001B[38;5;28;01mNone\u001B[39;00m\n\u001B[32m    118\u001B[39m geocollections = {\n\u001B[32m    119\u001B[39m     get_geocollection(third(elem), default_global_location=\u001B[38;5;28;01mTrue\u001B[39;00m) \u001B[38;5;28;01mfor\u001B[39;00m elem \u001B[38;5;129;01min\u001B[39;00m data\n\u001B[32m    120\u001B[39m }\n",
      "\u001B[36mFile \u001B[39m\u001B[32m~\\AppData\\Local\\miniforge3\\envs\\windtrace_env\\Lib\\site-packages\\bw2data\\method.py:109\u001B[39m, in \u001B[36mMethod.write.<locals>.normalize_ids\u001B[39m\u001B[34m(line)\u001B[39m\n\u001B[32m    107\u001B[39m     \u001B[38;5;28;01mreturn\u001B[39;00m (get_node(key=line[\u001B[32m0\u001B[39m]).id, *line[\u001B[32m1\u001B[39m:])\n\u001B[32m    108\u001B[39m \u001B[38;5;28;01melif\u001B[39;00m \u001B[38;5;129;01mnot\u001B[39;00m \u001B[38;5;28misinstance\u001B[39m(line[\u001B[32m0\u001B[39m], \u001B[38;5;28mint\u001B[39m):\n\u001B[32m--> \u001B[39m\u001B[32m109\u001B[39m     \u001B[38;5;28;01mraise\u001B[39;00m \u001B[38;5;167;01mValueError\u001B[39;00m(\n\u001B[32m    110\u001B[39m         \u001B[33mf\u001B[39m\u001B[33m\"\u001B[39m\u001B[33mCan\u001B[39m\u001B[33m'\u001B[39m\u001B[33mt understand elementary flow identifier \u001B[39m\u001B[38;5;132;01m{\u001B[39;00mline[\u001B[32m0\u001B[39m]\u001B[38;5;132;01m}\u001B[39;00m\u001B[33m in data line \u001B[39m\u001B[38;5;132;01m{\u001B[39;00mline\u001B[38;5;132;01m}\u001B[39;00m\u001B[33m\"\u001B[39m\n\u001B[32m    111\u001B[39m     )\n\u001B[32m    112\u001B[39m \u001B[38;5;28;01melse\u001B[39;00m:\n\u001B[32m    113\u001B[39m     \u001B[38;5;28;01mreturn\u001B[39;00m \u001B[38;5;28mtuple\u001B[39m(line)\n",
      "\u001B[31mValueError\u001B[39m: Can't understand elementary flow identifier ['biosphere3', '9990b51b-7023-4700-bca0-1a32ef921f74'] in data line (['biosphere3', '9990b51b-7023-4700-bca0-1a32ef921f74'], 1.6)"
     ]
    }
   ],
   "execution_count": 6
  },
  {
   "metadata": {},
   "cell_type": "code",
   "source": [
    "spold_files = consts.SPOLD_FILES\n",
    "if \"cutoff391\" not in bd.databases:\n",
    "    ei = bi.SingleOutputEcospold2Importer(spold_files, \"cutoff391\", use_mp=False)\n",
    "    ei.apply_strategies()\n",
    "    ei.write_database()\n",
    "if consts.NEW_DB_NAME not in bd.databases:\n",
    "    new_db = bd.Database(consts.NEW_DB_NAME)\n",
    "    new_db.register()"
   ],
   "id": "1c296c51-88e3-483e-8a2e-f5788837e458",
   "outputs": [],
   "execution_count": null
  },
  {
   "metadata": {},
   "cell_type": "markdown",
   "source": "Alternatively, you can also use ecoinvent_interface to download and install the Ecoinvent databases that you wish among versions 3.9.1, 3.10 and 3.10.1.",
   "id": "35b5aa7fb8d1eab0"
  },
  {
   "metadata": {
    "ExecuteTime": {
     "end_time": "2025-06-12T09:47:01.183699Z",
     "start_time": "2025-06-12T09:40:12.716610Z"
    }
   },
   "cell_type": "code",
   "source": [
    "from ecoinvent_interface import Settings, permanent_setting, EcoinventRelease, ReleaseType\n",
    "import os\n",
    "\n",
    "bd.projects.set_current(consts.PROJECT_NAME)\n",
    "\n",
    "SYSTEM_MODEL = \"cutoff\"\n",
    "# This will install the biosphere and technosphere for Ecoinvent versions 3.9.1, 3.10 and 3.10.1. In case you \n",
    "# only want to work with one of the versions, eliminate the others from the list\n",
    "EI_RELEASE_VERSIONS = [\"3.10.1\"]\n",
    "FILE_REPOSITORY = 'Data'  # add the path where you would like to save the Ecoinvent databases\n",
    "\n",
    "permanent_setting(\"username\", \"Your user\")  # change for your Ecoinvent username\n",
    "permanent_setting(\"password\", \"Your password\")  #change for your Ecoinvent password\n",
    "permanent_setting(\"output_path\", FILE_REPOSITORY)\n",
    "\n",
    "\n",
    "# this will download the Ecoinvent database/s for the versions you specified and write them in your brightway25 project\n",
    "my_settings = Settings()\n",
    "release = EcoinventRelease(my_settings)\n",
    "\n",
    "for release_version in EI_RELEASE_VERSIONS:\n",
    "\n",
    "    release_dir = os.path.join(FILE_REPOSITORY, f'{release_version}_ecoSpold02')\n",
    "    if not os.path.exists(release_dir):\n",
    "        release.get_release(release_version, SYSTEM_MODEL, ReleaseType.ecospold)\n",
    "    else:\n",
    "        print(f\"Release already exists at {release_dir}\")\n",
    "    try:\n",
    "        bi.import_ecoinvent_release(release_version, SYSTEM_MODEL, use_mp=False)\n",
    "        print(f\"Ecoinvent {release_version} ({SYSTEM_MODEL}) imported successfully!\")\n",
    "    except Exception as e:\n",
    "        print(f\"Failed to import ecoinvent release: {e}\")"
   ],
   "id": "f0f219466a4cc02a",
   "outputs": [
    {
     "name": "stdout",
     "output_type": "stream",
     "text": [
      "Applying strategy: normalize_units\n",
      "Applying strategy: drop_unspecified_subcategories\n",
      "Applying strategy: ensure_categories_are_tuples\n",
      "Applied 3 strategies in 0.01 seconds\n",
      "Graph statistics for `ecoinvent-3.10.1-biosphere` importer:\n",
      "4362 graph nodes:\n",
      "\temission: 4000\n",
      "\tnatural resource: 344\n",
      "\tinventory indicator: 13\n",
      "\teconomic: 5\n",
      "0 graph edges:\n",
      "0 edges to the following databases:\n",
      "0 unique unlinked edges (0 total):\n",
      "\n",
      "\n"
     ]
    },
    {
     "name": "stderr",
     "output_type": "stream",
     "text": [
      "100%|██████████| 4362/4362 [00:00<00:00, 30017.76it/s]\n"
     ]
    },
    {
     "name": "stdout",
     "output_type": "stream",
     "text": [
      "11:40:29+0200 [info     ] Vacuuming database            \n",
      "Created database: ecoinvent-3.10.1-biosphere\n"
     ]
    },
    {
     "name": "stderr",
     "output_type": "stream",
     "text": [
      "100%|██████████| 23523/23523 [02:45<00:00, 142.49it/s]\n"
     ]
    },
    {
     "name": "stdout",
     "output_type": "stream",
     "text": [
      "11:43:16+0200 [info     ] Extracted 23523 datasets in 167.02 seconds\n",
      "Applying strategy: normalize_units\n",
      "Applying strategy: update_ecoinvent_locations\n",
      "Applying strategy: remove_zero_amount_coproducts\n",
      "Applying strategy: remove_zero_amount_inputs_with_no_activity\n",
      "Applying strategy: remove_unnamed_parameters\n",
      "Applying strategy: es2_assign_only_product_with_amount_as_reference_product\n",
      "Applying strategy: assign_single_product_as_activity\n",
      "Applying strategy: create_composite_code\n",
      "Applying strategy: drop_unspecified_subcategories\n",
      "Applying strategy: fix_ecoinvent_flows_pre35\n",
      "Applying strategy: drop_temporary_outdated_biosphere_flows\n",
      "Applying strategy: link_biosphere_by_flow_uuid\n",
      "Applying strategy: link_internal_technosphere_by_composite_code\n",
      "Applying strategy: delete_exchanges_missing_activity\n",
      "Applying strategy: delete_ghost_exchanges\n",
      "Applying strategy: remove_uncertainty_from_negative_loss_exchanges\n",
      "Applying strategy: fix_unreasonably_high_lognormal_uncertainties\n",
      "Applying strategy: convert_activity_parameters_to_list\n",
      "Applying strategy: add_cpc_classification_from_single_reference_product\n",
      "Applying strategy: delete_none_synonyms\n",
      "Applying strategy: update_social_flows_in_older_consequential\n",
      "Applying strategy: set_lognormal_loc_value\n",
      "Applied 22 strategies in 5.89 seconds\n",
      "Graph statistics for `ecoinvent-3.10.1-cutoff` importer:\n",
      "23523 graph nodes:\n",
      "\tprocess: 23523\n",
      "743409 graph edges:\n",
      "\tbiosphere: 449622\n",
      "\ttechnosphere: 270264\n",
      "\tproduction: 23523\n",
      "743409 edges to the following databases:\n",
      "\tecoinvent-3.10.1-biosphere: 449622\n",
      "\tecoinvent-3.10.1-cutoff: 293787\n",
      "0 unique unlinked edges (0 total):\n",
      "\n",
      "\n",
      "11:43:23+0200 [warning  ] Not able to determine geocollections for all datasets. This database is not ready for regionalization.\n"
     ]
    },
    {
     "name": "stderr",
     "output_type": "stream",
     "text": [
      "100%|██████████| 23523/23523 [00:55<00:00, 421.14it/s]\n"
     ]
    },
    {
     "name": "stdout",
     "output_type": "stream",
     "text": [
      "11:44:19+0200 [info     ] Vacuuming database            \n",
      "Created database: ecoinvent-3.10.1-cutoff\n",
      "Ecoinvent 3.10.1 (cutoff) imported successfully!\n"
     ]
    }
   ],
   "execution_count": 4
  },
  {
   "metadata": {},
   "cell_type": "markdown",
   "source": [
    "Now the database where the turbine inventories will be installed (new_db), the biosphere database (biosphere) and the ecoinvent database (ei_cutoff) must be initialised. \\\n",
    "**IMPORTANT**: note that the name of the database will change depending if you used the conventional bi.bw2setup() or ecoinvent_interface to install your databases."
   ],
   "id": "690b6f0ddb0bdda2"
  },
  {
   "metadata": {
    "ExecuteTime": {
     "end_time": "2025-06-12T10:04:49.337469Z",
     "start_time": "2025-06-12T10:04:49.311694Z"
    }
   },
   "cell_type": "code",
   "source": [
    "new_db = bd.Database(consts.NEW_DB_NAME)\n",
    "new_db.register()\n",
    "\n",
    "\n",
    "biosphere = bd.Database('ecoinvent-3.10.1-biosphere')  # change for \"ecoinvent-3.10-biosphere\" if you are using ecoinvent 3.10 from ecoinvent_interface\n",
    "ei_cutoff = bd.Database(\"ecoinvent-3.10.1-cutoff\") # change for \"ecoinvent-3.10-cutoff\" if you are using ecoinvent 3.10 from ecoinvent_interface\n",
    "\n"
   ],
   "id": "f0823ba5afbe9cec",
   "outputs": [],
   "execution_count": 2
  },
  {
   "cell_type": "markdown",
   "id": "f2da1eee-5349-4411-8457-86ea47d4f41a",
   "metadata": {},
   "source": [
    "### 4. Creating life-cycle inventories"
   ]
  },
  {
   "cell_type": "markdown",
   "id": "99e0d5f8-3009-4075-abc7-b4932d1a7655",
   "metadata": {},
   "source": [
    "The function allowing to create customized inventories is **lci_wind_turbine()**, which admits the following parameters:\n",
    "| Parameter                     | Description                                                                  | Default                             | Type |\n",
    "|------------------------------|------------------------------------------------------------------------------|-------------------------------------|------|\n",
    "| Park name                    | Name of the wind park                                                        | *Required*                          | `str` |\n",
    "| Park power                   | Total power of the wind park (MW)                                            | *Required*                          | `float` |\n",
    "| Number of turbines           | Number of turbines in the wind park                                          | *Required*                          | `int` |\n",
    "| Park location                | Country code (ISO 3166-1 alpha-2)                                            | *Required*                          | `str` |\n",
    "| Park coordinates             | Latitude and longitude (WGS84)                                               | *Required*                          | `tuple` |\n",
    "| Manufacturer                 | Turbine manufacturer                                                         | `LM Wind`                           | `'LM Wind'`, `'Vestas'`, `'Siemens Gamesa'`, `'Enercon'`, `'Nordex'` |\n",
    "| Rotor diameter               | Rotor diameter (m)                                                           | *Required*                          | `int` |\n",
    "| Turbine rated power          | Nominal power per turbine (MW)                                               | *Required*                          | `float` |\n",
    "| Hub height                   | Turbine hub height (m)                                                        | *Required*                          | `float` |\n",
    "| Regression adjustment        | Steel mass as function of `D2h` or `Hub height`                              | `D2h`                               | `'D2h'`, `'Hub height'` |\n",
    "| Commissioning year           | Year turbine started operation                                               | *Required*                          | `int` |\n",
    "| Recycled steel share         | Recycled content share of steel                                              | Eurofer data (2012–2021)            | `float` |\n",
    "| Land use permanent intensity | Permanent land transformation per MW (m²/MW)                                 | `3000`                              | `float` |\n",
    "| Electricity mix steel        | Electricity mix for steel production                                         | Eurofer country mix                 | `'Norway'`, `'Europe'`, `'Poland'` *(optional)* |\n",
    "| Generator type               | Gearbox and generator type                                                   | `Doubly fed induction generator`    | `'dd_eesg'`, `'dd_pmsg'`, `'gb_pmsg'`, `'gb_dfig'` *(optional)* |\n",
    "| Land cover type              | Land cover before installation                                               | *Required*                          | `'crops, non-irrigated'`, `'grassland'`, `'road'`, etc. |\n",
    "| End-of-life scenario         | Material recycling scenario: <br> `1`: baseline<br> `2`: optimistic<br> `3`: pessimistic | `Baseline` | `str` |\n",
    "| Lifetime                     | Expected lifetime of the turbine (years)                                     | `20`                                | `int` |\n",
    "| Capacity factor              | Avg. delivered electricity / theoretical max                                 | `0.24`                              | `float` |\n",
    "| Attrition rate               | Annual performance degradation                                               | `0.009`                             | `float` |\n",
    "\n",
    "\n",
    "Parameters without a default value must be filled. Parameters with a default value are not compulsory but can be adapted to the user needs."
   ]
  },
  {
   "cell_type": "markdown",
   "id": "6838a86a-3d5c-47ca-a9ea-35458f4c5111",
   "metadata": {},
   "source": [
    "### 4.1. Example of application"
   ]
  },
  {
   "cell_type": "markdown",
   "id": "dd10bf67-a213-4929-9b90-cf2ae7051213",
   "metadata": {},
   "source": [
    "Let's build an imaginary 100 MW wind park ('my_wind_park') of 20 turbines, 5 MW each, in a random location in Spain. \\\n",
    "The manufacturer of the turbine is Siemens Gamesa, with turbines of 130 m rotor diameter, 140 m hub height and a gear-boxed double-fed induction generation drivetrain. \\\n",
    "The park is commissioned in 2020 and is expected to last for 25 years. \\\n",
    "The expected initial capacity factor is 24%. \\\n",
    "**IMPORTANT**: make sure the name you give to the park (park_name variable) has not been used previously in your database! This means, you cannot create two wind parks with the exact same name in the same database."
   ]
  },
  {
   "cell_type": "code",
   "id": "a364614c-c223-4c02-b04d-308c070c2ff6",
   "metadata": {
    "ExecuteTime": {
     "end_time": "2025-06-12T09:48:49.469611Z",
     "start_time": "2025-06-12T09:48:12.132439Z"
    }
   },
   "source": [
    "lci_wind_turbine(park_name='my_wind_park', \n",
    "                 park_power=100.0, \n",
    "                 number_of_turbines=20, \n",
    "                 park_location='ES', \n",
    "                 park_coordinates=(41.502, -1.126), \n",
    "                 manufacturer='Siemens Gamesa', \n",
    "                 rotor_diameter=130, \n",
    "                 turbine_power=5.0, \n",
    "                 hub_height=140, \n",
    "                 commissioning_year=2020, \n",
    "                 generator_type='gb_dfig',\n",
    "                 lifetime=25,  \n",
    "                 cf=0.24,\n",
    "                 new_db=new_db,\n",
    "                 biosphere3=biosphere,\n",
    "                 cutoff391=ei_cutoff\n",
    "                )"
   ],
   "outputs": [
    {
     "name": "stdout",
     "output_type": "stream",
     "text": [
      "Normality test for Low alloy steel (Full Range): Declined (p=0.043)\n",
      "Lognormality test for Low alloy steel (Full Range): Declined (p=0.000)\n",
      "Triangular test for Low alloy steel (Full Range): Declined (p=0.002)\n",
      "Uniform test for Low alloy steel (Full Range): Accepted (p=0.063)\n",
      "Normality test for Low alloy steel (Short Range): Accepted (p=0.089)\n",
      "Normality test for Chromium steel (Full Range): Accepted (p=0.941)\n",
      "Normality test for Chromium steel (Short Range): Accepted (p=0.718)\n",
      "Normality test for Cast iron (Full Range): Accepted (p=0.112)\n",
      "Normality test for Aluminium (Full Range): Accepted (p=0.996)\n",
      "Normality test for Aluminium (Short Range): Accepted (p=0.061)\n",
      "Normality test for Copper (Full Range): Declined (p=0.043)\n",
      "Lognormality test for Copper (Full Range): Declined (p=0.000)\n",
      "Triangular test for Copper (Full Range): Declined (p=0.000)\n",
      "Uniform test for Copper (Full Range): Declined (p=0.000)\n",
      "Normality test for Epoxy resin (Full Range): Accepted (p=0.109)\n",
      "Normality test for Epoxy resin (Short Range): Accepted (p=0.225)\n",
      "Normality test for Rubber (Full Range): Accepted (p=0.096)\n",
      "Normality test for Rubber (Short Range): Accepted (p=0.353)\n",
      "Normality test for PUR (Full Range): Accepted (p=0.153)\n",
      "Normality test for PUR (Short Range): Accepted (p=0.819)\n",
      "Normality test for PVC (Full Range): Accepted (p=0.153)\n",
      "Normality test for PVC (Short Range): Accepted (p=0.819)\n",
      "Normality test for Fiberglass (Full Range): Declined (p=0.039)\n",
      "Lognormality test for Fiberglass (Full Range): Declined (p=0.000)\n",
      "Triangular test for Fiberglass (Full Range): Declined (p=0.050)\n",
      "Uniform test for Fiberglass (Full Range): Declined (p=0.011)\n",
      "Normality test for Fiberglass (Short Range): Accepted (p=0.268)\n",
      "Normality test for electronics (Full Range): Accepted (p=0.112)\n",
      "Normality test for Electrics (Full Range): Accepted (p=0.843)\n",
      "Normality test for Lubricating oil (Full Range): Declined (p=0.000)\n",
      "Lognormality test for Lubricating oil (Full Range): Declined (p=0.000)\n",
      "Triangular test for Lubricating oil (Full Range): Declined (p=0.000)\n",
      "Uniform test for Lubricating oil (Full Range): Declined (p=0.000)\n",
      "Normality test for Low alloy steel (Foundations): Accepted (p=0.244)\n",
      "Normality test for Chromium steel (Foundations): Accepted (p=0.563)\n",
      "Normality test for Concrete (Foundations): Accepted (p=0.224)\n",
      "WARNING. You did not select any electricity_mix. The mean shares by country applied in the steel industry between 2017 and 2021 will be used\n",
      "Electricity mix: European mix provided by Eurofer\n",
      "Normality test for Low alloy steel (Full Range): Declined (p=0.043)\n",
      "Lognormality test for Low alloy steel (Full Range): Declined (p=0.000)\n",
      "Triangular test for Low alloy steel (Full Range): Declined (p=0.002)\n",
      "Uniform test for Low alloy steel (Full Range): Accepted (p=0.063)\n",
      "Normality test for Low alloy steel (Short Range): Accepted (p=0.089)\n",
      "Normality test for Chromium steel (Full Range): Accepted (p=0.941)\n",
      "Normality test for Chromium steel (Short Range): Accepted (p=0.718)\n",
      "Normality test for Cast iron (Full Range): Accepted (p=0.112)\n",
      "Normality test for Aluminium (Full Range): Accepted (p=0.996)\n",
      "Normality test for Aluminium (Short Range): Accepted (p=0.061)\n",
      "Normality test for Copper (Full Range): Declined (p=0.043)\n",
      "Lognormality test for Copper (Full Range): Declined (p=0.000)\n",
      "Triangular test for Copper (Full Range): Declined (p=0.000)\n",
      "Uniform test for Copper (Full Range): Declined (p=0.000)\n",
      "Normality test for Epoxy resin (Full Range): Accepted (p=0.109)\n",
      "Normality test for Epoxy resin (Short Range): Accepted (p=0.225)\n",
      "Normality test for Rubber (Full Range): Accepted (p=0.096)\n",
      "Normality test for Rubber (Short Range): Accepted (p=0.353)\n",
      "Normality test for PUR (Full Range): Accepted (p=0.153)\n",
      "Normality test for PUR (Short Range): Accepted (p=0.819)\n",
      "Normality test for PVC (Full Range): Accepted (p=0.153)\n",
      "Normality test for PVC (Short Range): Accepted (p=0.819)\n",
      "Normality test for Fiberglass (Full Range): Declined (p=0.039)\n",
      "Lognormality test for Fiberglass (Full Range): Declined (p=0.000)\n",
      "Triangular test for Fiberglass (Full Range): Declined (p=0.050)\n",
      "Uniform test for Fiberglass (Full Range): Declined (p=0.011)\n",
      "Normality test for Fiberglass (Short Range): Accepted (p=0.268)\n",
      "Normality test for electronics (Full Range): Accepted (p=0.112)\n",
      "Normality test for Electrics (Full Range): Accepted (p=0.843)\n",
      "Normality test for Lubricating oil (Full Range): Declined (p=0.000)\n",
      "Lognormality test for Lubricating oil (Full Range): Declined (p=0.000)\n",
      "Triangular test for Lubricating oil (Full Range): Declined (p=0.000)\n",
      "Uniform test for Lubricating oil (Full Range): Declined (p=0.000)\n",
      "Normality test for Low alloy steel (Foundations): Accepted (p=0.244)\n",
      "Normality test for Chromium steel (Foundations): Accepted (p=0.563)\n",
      "Normality test for Concrete (Foundations): Accepted (p=0.224)\n",
      "Normality test for Low alloy steel (Full Range): Declined (p=0.043)\n",
      "Lognormality test for Low alloy steel (Full Range): Declined (p=0.000)\n",
      "Triangular test for Low alloy steel (Full Range): Declined (p=0.002)\n",
      "Uniform test for Low alloy steel (Full Range): Accepted (p=0.063)\n",
      "Normality test for Low alloy steel (Short Range): Accepted (p=0.089)\n",
      "Normality test for Chromium steel (Full Range): Accepted (p=0.941)\n",
      "Normality test for Chromium steel (Short Range): Accepted (p=0.718)\n",
      "Normality test for Cast iron (Full Range): Accepted (p=0.112)\n",
      "Normality test for Aluminium (Full Range): Accepted (p=0.996)\n",
      "Normality test for Aluminium (Short Range): Accepted (p=0.061)\n",
      "Normality test for Copper (Full Range): Declined (p=0.043)\n",
      "Lognormality test for Copper (Full Range): Declined (p=0.000)\n",
      "Triangular test for Copper (Full Range): Declined (p=0.000)\n",
      "Uniform test for Copper (Full Range): Declined (p=0.000)\n",
      "Normality test for Epoxy resin (Full Range): Accepted (p=0.109)\n",
      "Normality test for Epoxy resin (Short Range): Accepted (p=0.225)\n",
      "Normality test for Rubber (Full Range): Accepted (p=0.096)\n",
      "Normality test for Rubber (Short Range): Accepted (p=0.353)\n",
      "Normality test for PUR (Full Range): Accepted (p=0.153)\n",
      "Normality test for PUR (Short Range): Accepted (p=0.819)\n",
      "Normality test for PVC (Full Range): Accepted (p=0.153)\n",
      "Normality test for PVC (Short Range): Accepted (p=0.819)\n",
      "Normality test for Fiberglass (Full Range): Declined (p=0.039)\n",
      "Lognormality test for Fiberglass (Full Range): Declined (p=0.000)\n",
      "Triangular test for Fiberglass (Full Range): Declined (p=0.050)\n",
      "Uniform test for Fiberglass (Full Range): Declined (p=0.011)\n",
      "Normality test for Fiberglass (Short Range): Accepted (p=0.268)\n",
      "Normality test for electronics (Full Range): Accepted (p=0.112)\n",
      "Normality test for Electrics (Full Range): Accepted (p=0.843)\n",
      "Normality test for Lubricating oil (Full Range): Declined (p=0.000)\n",
      "Lognormality test for Lubricating oil (Full Range): Declined (p=0.000)\n",
      "Triangular test for Lubricating oil (Full Range): Declined (p=0.000)\n",
      "Uniform test for Lubricating oil (Full Range): Declined (p=0.000)\n",
      "Normality test for Low alloy steel (Foundations): Accepted (p=0.244)\n",
      "Normality test for Chromium steel (Foundations): Accepted (p=0.563)\n",
      "Normality test for Concrete (Foundations): Accepted (p=0.224)\n",
      "Normality test for Low alloy steel (Full Range): Declined (p=0.043)\n",
      "Lognormality test for Low alloy steel (Full Range): Declined (p=0.000)\n",
      "Triangular test for Low alloy steel (Full Range): Declined (p=0.002)\n",
      "Uniform test for Low alloy steel (Full Range): Accepted (p=0.063)\n",
      "Normality test for Low alloy steel (Short Range): Accepted (p=0.089)\n",
      "Normality test for Chromium steel (Full Range): Accepted (p=0.941)\n",
      "Normality test for Chromium steel (Short Range): Accepted (p=0.718)\n",
      "Normality test for Cast iron (Full Range): Accepted (p=0.112)\n",
      "Normality test for Aluminium (Full Range): Accepted (p=0.996)\n",
      "Normality test for Aluminium (Short Range): Accepted (p=0.061)\n",
      "Normality test for Copper (Full Range): Declined (p=0.043)\n",
      "Lognormality test for Copper (Full Range): Declined (p=0.000)\n",
      "Triangular test for Copper (Full Range): Declined (p=0.000)\n",
      "Uniform test for Copper (Full Range): Declined (p=0.000)\n",
      "Normality test for Epoxy resin (Full Range): Accepted (p=0.109)\n",
      "Normality test for Epoxy resin (Short Range): Accepted (p=0.225)\n",
      "Normality test for Rubber (Full Range): Accepted (p=0.096)\n",
      "Normality test for Rubber (Short Range): Accepted (p=0.353)\n",
      "Normality test for PUR (Full Range): Accepted (p=0.153)\n",
      "Normality test for PUR (Short Range): Accepted (p=0.819)\n",
      "Normality test for PVC (Full Range): Accepted (p=0.153)\n",
      "Normality test for PVC (Short Range): Accepted (p=0.819)\n",
      "Normality test for Fiberglass (Full Range): Declined (p=0.039)\n",
      "Lognormality test for Fiberglass (Full Range): Declined (p=0.000)\n",
      "Triangular test for Fiberglass (Full Range): Declined (p=0.050)\n",
      "Uniform test for Fiberglass (Full Range): Declined (p=0.011)\n",
      "Normality test for Fiberglass (Short Range): Accepted (p=0.268)\n",
      "Normality test for electronics (Full Range): Accepted (p=0.112)\n",
      "Normality test for Electrics (Full Range): Accepted (p=0.843)\n",
      "Normality test for Lubricating oil (Full Range): Declined (p=0.000)\n",
      "Lognormality test for Lubricating oil (Full Range): Declined (p=0.000)\n",
      "Triangular test for Lubricating oil (Full Range): Declined (p=0.000)\n",
      "Uniform test for Lubricating oil (Full Range): Declined (p=0.000)\n",
      "Normality test for Low alloy steel (Foundations): Accepted (p=0.244)\n",
      "Normality test for Chromium steel (Foundations): Accepted (p=0.563)\n",
      "Normality test for Concrete (Foundations): Accepted (p=0.224)\n",
      "Normality test for Low alloy steel (Full Range): Declined (p=0.043)\n",
      "Lognormality test for Low alloy steel (Full Range): Declined (p=0.000)\n",
      "Triangular test for Low alloy steel (Full Range): Declined (p=0.002)\n",
      "Uniform test for Low alloy steel (Full Range): Accepted (p=0.063)\n",
      "Normality test for Low alloy steel (Short Range): Accepted (p=0.089)\n",
      "Normality test for Chromium steel (Full Range): Accepted (p=0.941)\n",
      "Normality test for Chromium steel (Short Range): Accepted (p=0.718)\n",
      "Normality test for Cast iron (Full Range): Accepted (p=0.112)\n",
      "Normality test for Aluminium (Full Range): Accepted (p=0.996)\n",
      "Normality test for Aluminium (Short Range): Accepted (p=0.061)\n",
      "Normality test for Copper (Full Range): Declined (p=0.043)\n",
      "Lognormality test for Copper (Full Range): Declined (p=0.000)\n",
      "Triangular test for Copper (Full Range): Declined (p=0.000)\n",
      "Uniform test for Copper (Full Range): Declined (p=0.000)\n",
      "Normality test for Epoxy resin (Full Range): Accepted (p=0.109)\n",
      "Normality test for Epoxy resin (Short Range): Accepted (p=0.225)\n",
      "Normality test for Rubber (Full Range): Accepted (p=0.096)\n",
      "Normality test for Rubber (Short Range): Accepted (p=0.353)\n",
      "Normality test for PUR (Full Range): Accepted (p=0.153)\n",
      "Normality test for PUR (Short Range): Accepted (p=0.819)\n",
      "Normality test for PVC (Full Range): Accepted (p=0.153)\n",
      "Normality test for PVC (Short Range): Accepted (p=0.819)\n",
      "Normality test for Fiberglass (Full Range): Declined (p=0.039)\n",
      "Lognormality test for Fiberglass (Full Range): Declined (p=0.000)\n",
      "Triangular test for Fiberglass (Full Range): Declined (p=0.050)\n",
      "Uniform test for Fiberglass (Full Range): Declined (p=0.011)\n",
      "Normality test for Fiberglass (Short Range): Accepted (p=0.268)\n",
      "Normality test for electronics (Full Range): Accepted (p=0.112)\n",
      "Normality test for Electrics (Full Range): Accepted (p=0.843)\n",
      "Normality test for Lubricating oil (Full Range): Declined (p=0.000)\n",
      "Lognormality test for Lubricating oil (Full Range): Declined (p=0.000)\n",
      "Triangular test for Lubricating oil (Full Range): Declined (p=0.000)\n",
      "Uniform test for Lubricating oil (Full Range): Declined (p=0.000)\n",
      "Normality test for Low alloy steel (Foundations): Accepted (p=0.244)\n",
      "Normality test for Chromium steel (Foundations): Accepted (p=0.563)\n",
      "Normality test for Concrete (Foundations): Accepted (p=0.224)\n",
      "Time-adjusted cf applied with an attrition coefficient of 0.009\n",
      "Wind park my_wind_park inventories created successfully.\n"
     ]
    },
    {
     "data": {
      "text/plain": [
       "({'Low alloy steel': 7455354.805104659,\n",
       "  'Chromium steel': 1043984.2519468605,\n",
       "  'Cast iron': 1681063.4157545082,\n",
       "  'Aluminium': 161845.10502487788,\n",
       "  'Copper': 91393.59437802702,\n",
       "  'Epoxy resin': 311104.78386133275,\n",
       "  'Rubber': 27173.579357149145,\n",
       "  'PUR': 50570.48514631777,\n",
       "  'PVC': 135072.30653721892,\n",
       "  'Fiberglass': 712338.5970491616,\n",
       "  'electronics': 24041.93530003225,\n",
       "  'Electrics': 76255.7139360755,\n",
       "  'Lubricating oil': 31331.69045155677,\n",
       "  'Low alloy steel_foundations': 2052452.3349240404,\n",
       "  'Chromium steel_foundations': 171367.63623532938,\n",
       "  'Concrete_foundations': 15677.101183848605,\n",
       "  'Praseodymium': 0.0,\n",
       "  'Neodymium': 1200.0,\n",
       "  'Dysprosium': 200.0,\n",
       "  'Terbium': 0.0,\n",
       "  'Boron': 0.0,\n",
       "  'PE': 1129.9114902604463},\n",
       " 50000.0,\n",
       " 462500.0)"
      ]
     },
     "execution_count": 10,
     "metadata": {},
     "output_type": "execute_result"
    }
   ],
   "execution_count": 10
  },
  {
   "cell_type": "markdown",
   "id": "df37f68a-1880-440e-8d26-47e00e647eff",
   "metadata": {},
   "source": [
    "### 4.2 Exploring the inventories"
   ]
  },
  {
   "cell_type": "markdown",
   "id": "53392a0c-2387-4605-9dd4-371cce59892f",
   "metadata": {},
   "source": [
    "The inventories are given by unit of turbine, unit of park, and kWh (for both turbine and park). In this example, the inventoris would have the following names (and codes):\n",
    "\n",
    "- Turbine (FU=unit): my_wind_park_single_turbine\n",
    "- Turbine (FU=kWh): my_wind_park_turbine_kwh\n",
    "- Park (FU=unit): my_wind_park_10.0\n",
    "- Park (FU=kWh): my_wind_park_kwh\n",
    "\n",
    "You can access them as follows:"
   ]
  },
  {
   "cell_type": "code",
   "id": "f2d64f15-b76c-4afc-9a81-a223205f6f39",
   "metadata": {
    "ExecuteTime": {
     "end_time": "2025-06-12T10:04:59.908469Z",
     "start_time": "2025-06-12T10:04:59.899951Z"
    }
   },
   "source": [
    "# park (FU=unit)\n",
    "park_unit_act = bd.Database(consts.NEW_DB_NAME).get('my_wind_park_100.0')\n",
    "park_kwh_act = bd.Database(consts.NEW_DB_NAME).get('my_wind_park_park_kwh')\n",
    "turbine_unit_act = bd.Database(consts.NEW_DB_NAME).get('my_wind_park_single_turbine')\n",
    "turbine_kwh_act = bd.Database(consts.NEW_DB_NAME).get('my_wind_park_turbine_kwh')"
   ],
   "outputs": [],
   "execution_count": 3
  },
  {
   "metadata": {},
   "cell_type": "markdown",
   "source": [
    "Altrnatively, if your interest is only the materials of one turbine, you can access them with the following code (and name):\n",
    "- Turbine materials: my_wind_park_materials"
   ],
   "id": "d4fb4f4dd6b38ddb"
  },
  {
   "metadata": {
    "ExecuteTime": {
     "end_time": "2025-06-12T09:49:38.148816Z",
     "start_time": "2025-06-12T09:49:38.081740Z"
    }
   },
   "cell_type": "code",
   "source": [
    "turbine_act = bd.Database(consts.NEW_DB_NAME).get('my_wind_park_materials')\n",
    "for ex in turbine_act.technosphere():\n",
    "    print(f'{ex.input[\"name\"]}: {ex[\"amount\"]} ({ex.unit})')\n",
    "# Note that steel and chromium steel appear both twice. The first appearance corresponds to the turbine, and the second one to the foundations."
   ],
   "id": "7fede6f83d7c7ab4",
   "outputs": [
    {
     "name": "stdout",
     "output_type": "stream",
     "text": [
      "market for steel, low-alloyed, 2019: 372767.74025523296 (kilogram)\n",
      "market for steel, chromium steel 18/8: 52199.21259734302 (kilogram)\n",
      "market for cast iron: 84053.17078772541 (kilogram)\n",
      "market for aluminium, wrought alloy: 7905.839208953751 (kilogram)\n",
      "market for copper, cathode: 4081.5585276110005 (kilogram)\n",
      "market for epoxy resin, liquid: 15555.239193066636 (kilogram)\n",
      "market for synthetic rubber: 1358.6789678574573 (kilogram)\n",
      "market for polyurethane, rigid foam: 2528.5242573158885 (kilogram)\n",
      "market for polyvinylchloride, bulk polymerised: 6728.101196435709 (kilogram)\n",
      "market for glass fibre reinforced plastic, polyamide, injection moulded: 39178.62283770389 (kilogram)\n",
      "market for electronics, for control units: 1202.0967650016125 (kilogram)\n",
      "cable production, unspecified: 3812.785696803775 (kilogram)\n",
      "market for lubricating oil: 1566.5845225778385 (kilogram)\n",
      "market for steel, low-alloyed, 2019: 102622.61674620202 (kilogram)\n",
      "market for steel, chromium steel 18/8: 8568.381811766469 (kilogram)\n",
      "market group for concrete, normal strength: 783.8550591924302 (cubic meter)\n",
      "market for praseodymium oxide: 0.0 (kilogram)\n",
      "market for neodymium oxide: 60.0 (kilogram)\n",
      "market for dysprosium oxide: 10.0 (kilogram)\n",
      "market for terbium oxide: 0.0 (kilogram)\n",
      "market for boron carbide: 0.0 (kilogram)\n"
     ]
    }
   ],
   "execution_count": 12
  },
  {
   "cell_type": "markdown",
   "id": "b8ec0a33-add1-4ca4-b97e-6b559ba08175",
   "metadata": {},
   "source": [
    "### 4.3 Calculating LCIA scores"
   ]
  },
  {
   "cell_type": "markdown",
   "id": "da3392af-4075-45d8-9326-05fae5b0a7f3",
   "metadata": {},
   "source": [
    "LCA impacts of a park or an individual turbine of the park can be calculated with lca_wind_turbine(). It returns two dictionaries: the first one being results per unit and the second one being results per kWh. Default results are given per turbine. For the whole park, you must set the parameter 'turbine' to False. ReCiPe 2016 v1.03, midpoint (H) is the default LCIA method. It can be manually changed by giving the parameter 'method' another name of a method in Brightway.\n",
    "\n",
    "Here an example of application for the whole park. The first dictionary saves scores per FU=unit, and the second per FU=1kWh"
   ]
  },
  {
   "cell_type": "code",
   "id": "9c7b4a9c-3ef1-4fd8-9c0f-28ae212c0368",
   "metadata": {
    "ExecuteTime": {
     "end_time": "2025-06-12T10:05:07.475754Z",
     "start_time": "2025-06-12T10:05:05.110294Z"
    }
   },
   "source": [
    "lcia_scores_unit, lcia_scores_kwh = lca_wind_turbine(park_name='my_wind_park', park_power=100.0, method='EF v3.1', turbine=False, new_db=new_db)\n",
    "print(f'LCIA scores for (FU = one wind park unit) {lcia_scores_unit}')\n",
    "print(f'LCIA scores for (FU = one kwh) {lcia_scores_kwh}')\n",
    "\n"
   ],
   "outputs": [
    {
     "name": "stdout",
     "output_type": "stream",
     "text": [
      "Functional unit: 1 wind park\n",
      "LCIA methods: EF v3.1\n",
      "CF: 0.24. Attrition rate: 0.009\n",
      "LCIA scores for (FU = one wind park unit) {'EF v3.1': 22432491.80182545, 'EF v3.1 EN15804': 22432491.80182545}\n",
      "LCIA scores for (FU = one kwh) {'EF v3.1': 0.004788138341419048, 'EF v3.1 EN15804': 0.004788138341419048}\n",
      "0.001055716325309905\n"
     ]
    }
   ],
   "execution_count": 4
  },
  {
   "cell_type": "markdown",
   "id": "ea8619d7-453f-413a-a3e8-3b5a60530814",
   "metadata": {},
   "source": [
    "Alternatively, you can give it a certain set of indicators of your choice as a list with the variable 'indicators'. Example:"
   ]
  },
  {
   "cell_type": "code",
   "id": "72ce1451-3bf7-4167-8392-cb1bcc93b258",
   "metadata": {},
   "source": [
    "lcia_scores_unit, lcia_scores_kwh = lca_wind_turbine(park_name='my_wind_park', park_power=100.0, method='EF v3.1', \n",
    "                               indicators=[('CML v4.8 2016 no LT', 'acidification no LT', 'acidification (incl. fate, average Europe total, A&B) no LT'), \n",
    "                                           ('Cumulative Energy Demand (CED)', 'energy resources: renewable', 'energy content (HHV)'),\n",
    "                                           ('Ecological Scarcity 2021 no LT', 'climate change no LT', 'global warming potential (GWP100) no LT')\n",
    "                                          ], \n",
    "                               turbine=False, new_db=new_db)\n",
    "print(f'LCIA scores for (FU = one wind park unit) {lcia_scores_unit}')\n",
    "print(f'LCIA scores for (FU = one kwh) {lcia_scores_kwh}')"
   ],
   "outputs": [],
   "execution_count": null
  },
  {
   "metadata": {
    "ExecuteTime": {
     "end_time": "2025-06-12T09:52:50.563392Z",
     "start_time": "2025-06-12T09:52:50.555522Z"
    }
   },
   "cell_type": "code",
   "source": "bd.methods",
   "id": "5a55716aa607b381",
   "outputs": [
    {
     "data": {
      "text/plain": [
       "Methods dictionary with 668 objects, including:\n",
       "\t('ecoinvent-3.10.1', 'CML v4.8 2016', 'acidification', 'acidification (incl. fate, average Europe total, A&B)')\n",
       "\t('ecoinvent-3.10.1', 'CML v4.8 2016', 'climate change', 'global warming potential (GWP100)')\n",
       "\t('ecoinvent-3.10.1', 'CML v4.8 2016', 'ecotoxicity: freshwater', 'freshwater aquatic ecotoxicity (FAETP inf)')\n",
       "\t('ecoinvent-3.10.1', 'CML v4.8 2016', 'ecotoxicity: marine', 'marine aquatic ecotoxicity (MAETP inf)')\n",
       "\t('ecoinvent-3.10.1', 'CML v4.8 2016', 'ecotoxicity: terrestrial', 'terrestrial ecotoxicity (TETP inf)')\n",
       "\t('ecoinvent-3.10.1', 'CML v4.8 2016', 'energy resources: non-renewable', 'abiotic depletion potential (ADP): fossil fuels')\n",
       "\t('ecoinvent-3.10.1', 'CML v4.8 2016', 'eutrophication', 'eutrophication (fate not incl.)')\n",
       "\t('ecoinvent-3.10.1', 'CML v4.8 2016', 'human toxicity', 'human toxicity (HTP inf)')\n",
       "\t('ecoinvent-3.10.1', 'CML v4.8 2016', 'material resources: metals/minerals', 'abiotic depletion potential (ADP): elements (ultimate reserves)')\n",
       "\t('ecoinvent-3.10.1', 'CML v4.8 2016', 'ozone depletion', 'ozone layer depletion (ODP steady state)')\n",
       "Use `list(this object)` to get the complete list."
      ]
     },
     "execution_count": 16,
     "metadata": {},
     "output_type": "execute_result"
    }
   ],
   "execution_count": 16
  },
  {
   "cell_type": "markdown",
   "id": "edfd48cd-7d1e-408d-9928-a99866d55b0f",
   "metadata": {},
   "source": [
    "### 4.4 Another example with land use focus"
   ]
  },
  {
   "cell_type": "markdown",
   "id": "99600baa-9e7c-43de-85cf-50d884a56331",
   "metadata": {},
   "source": [
    "Now let's build another wind park changing a bit the land use related parameters. Let's say we know the original land where the turbine will be built is a pasture. Let's say we also know that the permanent land use intensity is smaller than the default number we use. This parameter should include the squared meters per MW of land that will be occupied by permanent access roads, transformer, substation and the turbines themselves. We will use an intensity of 1000 m2/MW this time."
   ]
  },
  {
   "cell_type": "code",
   "id": "16719762-6078-4e50-8754-829ef4054f28",
   "metadata": {
    "ExecuteTime": {
     "end_time": "2025-06-12T09:37:08.028748Z",
     "start_time": "2025-06-12T09:36:31.472996Z"
    }
   },
   "source": [
    "lci_wind_turbine(park_name='my_wind_park_LandUse', \n",
    "                 park_power=100.0, \n",
    "                 number_of_turbines=20, \n",
    "                 park_location='ES', \n",
    "                 park_coordinates=(41.502, -1.126), \n",
    "                 manufacturer='Siemens Gamesa', \n",
    "                 rotor_diameter=130, \n",
    "                 turbine_power=5.0, \n",
    "                 hub_height=140, \n",
    "                 commissioning_year=2020, \n",
    "                 generator_type='gb_dfig',  \n",
    "                 lifetime=25,  \n",
    "                 cf=0.24,\n",
    "                 land_use_permanent_intensity=1000,\n",
    "                 land_cover_type='pasture',\n",
    "                 new_db=new_db,\n",
    "                 biosphere3=biosphere,\n",
    "                 cutoff391=ei_cutoff\n",
    "                )"
   ],
   "outputs": [
    {
     "name": "stdout",
     "output_type": "stream",
     "text": [
      "Normality test for Low alloy steel (Full Range): Declined (p=0.043)\n",
      "Lognormality test for Low alloy steel (Full Range): Declined (p=0.000)\n",
      "Triangular test for Low alloy steel (Full Range): Declined (p=0.002)\n",
      "Uniform test for Low alloy steel (Full Range): Accepted (p=0.063)\n",
      "Normality test for Low alloy steel (Short Range): Accepted (p=0.089)\n",
      "Normality test for Chromium steel (Full Range): Accepted (p=0.941)\n",
      "Normality test for Chromium steel (Short Range): Accepted (p=0.718)\n",
      "Normality test for Cast iron (Full Range): Accepted (p=0.112)\n",
      "Normality test for Aluminium (Full Range): Accepted (p=0.996)\n",
      "Normality test for Aluminium (Short Range): Accepted (p=0.061)\n",
      "Normality test for Copper (Full Range): Declined (p=0.043)\n",
      "Lognormality test for Copper (Full Range): Declined (p=0.000)\n",
      "Triangular test for Copper (Full Range): Declined (p=0.000)\n",
      "Uniform test for Copper (Full Range): Declined (p=0.000)\n",
      "Normality test for Epoxy resin (Full Range): Accepted (p=0.109)\n",
      "Normality test for Epoxy resin (Short Range): Accepted (p=0.225)\n",
      "Normality test for Rubber (Full Range): Accepted (p=0.096)\n",
      "Normality test for Rubber (Short Range): Accepted (p=0.353)\n",
      "Normality test for PUR (Full Range): Accepted (p=0.153)\n",
      "Normality test for PUR (Short Range): Accepted (p=0.819)\n",
      "Normality test for PVC (Full Range): Accepted (p=0.153)\n",
      "Normality test for PVC (Short Range): Accepted (p=0.819)\n",
      "Normality test for Fiberglass (Full Range): Declined (p=0.039)\n",
      "Lognormality test for Fiberglass (Full Range): Declined (p=0.000)\n",
      "Triangular test for Fiberglass (Full Range): Declined (p=0.050)\n",
      "Uniform test for Fiberglass (Full Range): Declined (p=0.011)\n",
      "Normality test for Fiberglass (Short Range): Accepted (p=0.268)\n",
      "Normality test for electronics (Full Range): Accepted (p=0.112)\n",
      "Normality test for Electrics (Full Range): Accepted (p=0.843)\n",
      "Normality test for Lubricating oil (Full Range): Declined (p=0.000)\n",
      "Lognormality test for Lubricating oil (Full Range): Declined (p=0.000)\n",
      "Triangular test for Lubricating oil (Full Range): Declined (p=0.000)\n",
      "Uniform test for Lubricating oil (Full Range): Declined (p=0.000)\n",
      "Normality test for Low alloy steel (Foundations): Accepted (p=0.244)\n",
      "Normality test for Chromium steel (Foundations): Accepted (p=0.563)\n",
      "Normality test for Concrete (Foundations): Accepted (p=0.224)\n",
      "Normality test for Low alloy steel (Full Range): Declined (p=0.043)\n",
      "Lognormality test for Low alloy steel (Full Range): Declined (p=0.000)\n",
      "Triangular test for Low alloy steel (Full Range): Declined (p=0.002)\n",
      "Uniform test for Low alloy steel (Full Range): Accepted (p=0.063)\n",
      "Normality test for Low alloy steel (Short Range): Accepted (p=0.089)\n",
      "Normality test for Chromium steel (Full Range): Accepted (p=0.941)\n",
      "Normality test for Chromium steel (Short Range): Accepted (p=0.718)\n",
      "Normality test for Cast iron (Full Range): Accepted (p=0.112)\n",
      "Normality test for Aluminium (Full Range): Accepted (p=0.996)\n",
      "Normality test for Aluminium (Short Range): Accepted (p=0.061)\n",
      "Normality test for Copper (Full Range): Declined (p=0.043)\n",
      "Lognormality test for Copper (Full Range): Declined (p=0.000)\n",
      "Triangular test for Copper (Full Range): Declined (p=0.000)\n",
      "Uniform test for Copper (Full Range): Declined (p=0.000)\n",
      "Normality test for Epoxy resin (Full Range): Accepted (p=0.109)\n",
      "Normality test for Epoxy resin (Short Range): Accepted (p=0.225)\n",
      "Normality test for Rubber (Full Range): Accepted (p=0.096)\n",
      "Normality test for Rubber (Short Range): Accepted (p=0.353)\n",
      "Normality test for PUR (Full Range): Accepted (p=0.153)\n",
      "Normality test for PUR (Short Range): Accepted (p=0.819)\n",
      "Normality test for PVC (Full Range): Accepted (p=0.153)\n",
      "Normality test for PVC (Short Range): Accepted (p=0.819)\n",
      "Normality test for Fiberglass (Full Range): Declined (p=0.039)\n",
      "Lognormality test for Fiberglass (Full Range): Declined (p=0.000)\n",
      "Triangular test for Fiberglass (Full Range): Declined (p=0.050)\n",
      "Uniform test for Fiberglass (Full Range): Declined (p=0.011)\n",
      "Normality test for Fiberglass (Short Range): Accepted (p=0.268)\n",
      "Normality test for electronics (Full Range): Accepted (p=0.112)\n",
      "Normality test for Electrics (Full Range): Accepted (p=0.843)\n",
      "Normality test for Lubricating oil (Full Range): Declined (p=0.000)\n",
      "Lognormality test for Lubricating oil (Full Range): Declined (p=0.000)\n",
      "Triangular test for Lubricating oil (Full Range): Declined (p=0.000)\n",
      "Uniform test for Lubricating oil (Full Range): Declined (p=0.000)\n",
      "Normality test for Low alloy steel (Foundations): Accepted (p=0.244)\n",
      "Normality test for Chromium steel (Foundations): Accepted (p=0.563)\n",
      "Normality test for Concrete (Foundations): Accepted (p=0.224)\n",
      "You introduced a wrong land cover type: pasture\n",
      "Only the following land cover types are allowed: industrial_from, crops, non-irrigated, row crops, shrubland, grassland, pasture, forest, unspecified.\n"
     ]
    },
    {
     "ename": "SystemExit",
     "evalue": "",
     "output_type": "error",
     "traceback": [
      "An exception has occurred, use %tb to see the full traceback.\n",
      "\u001B[31mSystemExit\u001B[39m\n"
     ]
    },
    {
     "name": "stderr",
     "output_type": "stream",
     "text": [
      "C:\\Users\\1496051\\AppData\\Local\\miniforge3\\envs\\windtrace_env\\Lib\\site-packages\\IPython\\core\\interactiveshell.py:3675: UserWarning: To exit: use 'exit', 'quit', or Ctrl-D.\n",
      "  warn(\"To exit: use 'exit', 'quit', or Ctrl-D.\", stacklevel=1)\n"
     ]
    }
   ],
   "execution_count": 13
  },
  {
   "metadata": {
    "ExecuteTime": {
     "end_time": "2025-06-12T09:37:38.922499Z",
     "start_time": "2025-06-12T09:37:38.843333Z"
    }
   },
   "cell_type": "code",
   "source": "%tb",
   "id": "f02c982cd2c66efd",
   "outputs": [
    {
     "ename": "SystemExit",
     "evalue": "",
     "output_type": "error",
     "traceback": [
      "\u001B[31m---------------------------------------------------------------------------\u001B[39m",
      "\u001B[31mUnknownObject\u001B[39m                             Traceback (most recent call last)",
      "\u001B[36mFile \u001B[39m\u001B[32m~\\PycharmProjects\\WindTrace_public\\WindTrace_onshore.py:1711\u001B[39m, in \u001B[36mland_use\u001B[39m\u001B[34m(new_db, biosphere3, turbine_power, park_name, lifetime, manual_land_cover, include_life_cycle_stages, land_use_permanent_intensity)\u001B[39m\n\u001B[32m   1710\u001B[39m \u001B[38;5;28;01mtry\u001B[39;00m:\n\u001B[32m-> \u001B[39m\u001B[32m1711\u001B[39m     land_cover_type_activity = biosphere3.get(equivalence[land_cover_type][\u001B[33m'\u001B[39m\u001B[33mtransformation_code\u001B[39m\u001B[33m'\u001B[39m])\n\u001B[32m   1712\u001B[39m \u001B[38;5;28;01mexcept\u001B[39;00m bd.errors.UnknownObject:\n",
      "\u001B[36mFile \u001B[39m\u001B[32m~\\AppData\\Local\\miniforge3\\envs\\windtrace_env\\Lib\\site-packages\\bw2data\\backends\\base.py:485\u001B[39m, in \u001B[36mSQLiteBackend.get\u001B[39m\u001B[34m(self, code, **kwargs)\u001B[39m\n\u001B[32m    484\u001B[39m     kwargs[\u001B[33m\"\u001B[39m\u001B[33mcode\u001B[39m\u001B[33m\"\u001B[39m] = code\n\u001B[32m--> \u001B[39m\u001B[32m485\u001B[39m \u001B[38;5;28;01mreturn\u001B[39;00m get_node(**kwargs)\n",
      "\u001B[36mFile \u001B[39m\u001B[32m~\\AppData\\Local\\miniforge3\\envs\\windtrace_env\\Lib\\site-packages\\bw2data\\utils.py:384\u001B[39m, in \u001B[36mget_node\u001B[39m\u001B[34m(**kwargs)\u001B[39m\n\u001B[32m    383\u001B[39m \u001B[38;5;28;01melif\u001B[39;00m \u001B[38;5;129;01mnot\u001B[39;00m candidates:\n\u001B[32m--> \u001B[39m\u001B[32m384\u001B[39m     \u001B[38;5;28;01mraise\u001B[39;00m UnknownObject\n\u001B[32m    385\u001B[39m \u001B[38;5;28;01mreturn\u001B[39;00m candidates[\u001B[32m0\u001B[39m]\n",
      "\u001B[31mUnknownObject\u001B[39m: ",
      "\nDuring handling of the above exception, another exception occurred:\n",
      "\u001B[31mSystemExit\u001B[39m                                Traceback (most recent call last)",
      "\u001B[36mCell\u001B[39m\u001B[36m \u001B[39m\u001B[32mIn[13]\u001B[39m\u001B[32m, line 1\u001B[39m\n\u001B[32m----> \u001B[39m\u001B[32m1\u001B[39m lci_wind_turbine(park_name=\u001B[33m'\u001B[39m\u001B[33mmy_wind_park_LandUse\u001B[39m\u001B[33m'\u001B[39m, \n\u001B[32m      2\u001B[39m                  park_power=\u001B[32m100.0\u001B[39m, \n\u001B[32m      3\u001B[39m                  number_of_turbines=\u001B[32m20\u001B[39m, \n\u001B[32m      4\u001B[39m                  park_location=\u001B[33m'\u001B[39m\u001B[33mES\u001B[39m\u001B[33m'\u001B[39m, \n\u001B[32m      5\u001B[39m                  park_coordinates=(\u001B[32m41.502\u001B[39m, -\u001B[32m1.126\u001B[39m), \n\u001B[32m      6\u001B[39m                  manufacturer=\u001B[33m'\u001B[39m\u001B[33mSiemens Gamesa\u001B[39m\u001B[33m'\u001B[39m, \n\u001B[32m      7\u001B[39m                  rotor_diameter=\u001B[32m130\u001B[39m, \n\u001B[32m      8\u001B[39m                  turbine_power=\u001B[32m5.0\u001B[39m, \n\u001B[32m      9\u001B[39m                  hub_height=\u001B[32m140\u001B[39m, \n\u001B[32m     10\u001B[39m                  commissioning_year=\u001B[32m2020\u001B[39m, \n\u001B[32m     11\u001B[39m                  generator_type=\u001B[33m'\u001B[39m\u001B[33mgb_dfig\u001B[39m\u001B[33m'\u001B[39m,  \n\u001B[32m     12\u001B[39m                  lifetime=\u001B[32m25\u001B[39m,  \n\u001B[32m     13\u001B[39m                  cf=\u001B[32m0.24\u001B[39m,\n\u001B[32m     14\u001B[39m                  land_use_permanent_intensity=\u001B[32m1000\u001B[39m,\n\u001B[32m     15\u001B[39m                  land_cover_type=\u001B[33m'\u001B[39m\u001B[33mpasture\u001B[39m\u001B[33m'\u001B[39m,\n\u001B[32m     16\u001B[39m                  new_db=new_db,\n\u001B[32m     17\u001B[39m                  biosphere3=biosphere,\n\u001B[32m     18\u001B[39m                  cutoff391=ei_cutoff\n\u001B[32m     19\u001B[39m                 )\n",
      "\u001B[36mFile \u001B[39m\u001B[32m~\\PycharmProjects\\WindTrace_public\\WindTrace_onshore.py:1997\u001B[39m, in \u001B[36mlci_wind_turbine\u001B[39m\u001B[34m(new_db, cutoff391, biosphere3, park_name, park_power, number_of_turbines, park_location, park_coordinates, manufacturer, rotor_diameter, turbine_power, hub_height, commissioning_year, generator_type, recycled_share_steel, electricity_mix_steel, lifetime, land_use_permanent_intensity, land_cover_type, eol_scenario, cf, time_adjusted_cf, regression_adjustment, include_life_cycle_stages, eol, transportation, use_and_maintenance, installation, comment)\u001B[39m\n\u001B[32m   1991\u001B[39m     excavation_activities(generator_type=generator_type, turbine_power=turbine_power, hub_height=hub_height,\n\u001B[32m   1992\u001B[39m                           rotor_diameter=rotor_diameter, number_of_turbines=number_of_turbines, park_name=park_name,\n\u001B[32m   1993\u001B[39m                           include_life_cycle_stages=include_life_cycle_stages,\n\u001B[32m   1994\u001B[39m                           regression_adjustment=regression_adjustment,\n\u001B[32m   1995\u001B[39m                           new_db=new_db, cutoff391=cutoff391, ei_index=ei_index)\n\u001B[32m   1996\u001B[39m \u001B[38;5;28;01melif\u001B[39;00m installation \u001B[38;5;129;01mand\u001B[39;00m land_cover_type:\n\u001B[32m-> \u001B[39m\u001B[32m1997\u001B[39m     trans, occ = land_use(turbine_power=turbine_power, park_name=park_name, manual_land_cover=land_cover_type,\n\u001B[32m   1998\u001B[39m                           include_life_cycle_stages=include_life_cycle_stages, lifetime=lifetime,\n\u001B[32m   1999\u001B[39m                           land_use_permanent_intensity=land_use_permanent_intensity,\n\u001B[32m   2000\u001B[39m                           biosphere3=biosphere3, new_db=new_db)\n\u001B[32m   2001\u001B[39m     auxiliary_road_materials(turbine_power=turbine_power, park_name=park_name,\n\u001B[32m   2002\u001B[39m                              include_life_cycle_stages=include_life_cycle_stages,\n\u001B[32m   2003\u001B[39m                              new_db=new_db, cutoff391=cutoff391, ei_index=ei_index)\n\u001B[32m   2004\u001B[39m     excavation_activities(generator_type=generator_type, turbine_power=turbine_power, hub_height=hub_height,\n\u001B[32m   2005\u001B[39m                           rotor_diameter=rotor_diameter, number_of_turbines=number_of_turbines, park_name=park_name,\n\u001B[32m   2006\u001B[39m                           include_life_cycle_stages=include_life_cycle_stages,\n\u001B[32m   2007\u001B[39m                           regression_adjustment=regression_adjustment,\n\u001B[32m   2008\u001B[39m                           new_db=new_db, cutoff391=cutoff391, ei_index=ei_index)\n",
      "\u001B[36mFile \u001B[39m\u001B[32m~\\PycharmProjects\\WindTrace_public\\WindTrace_onshore.py:1716\u001B[39m, in \u001B[36mland_use\u001B[39m\u001B[34m(new_db, biosphere3, turbine_power, park_name, lifetime, manual_land_cover, include_life_cycle_stages, land_use_permanent_intensity)\u001B[39m\n\u001B[32m   1713\u001B[39m     \u001B[38;5;28mprint\u001B[39m(\u001B[33m'\u001B[39m\u001B[33mYou introduced a wrong land cover type: \u001B[39m\u001B[33m'\u001B[39m + \u001B[38;5;28mstr\u001B[39m(manual_land_cover))\n\u001B[32m   1714\u001B[39m     \u001B[38;5;28mprint\u001B[39m(\u001B[33m'\u001B[39m\u001B[33mOnly the following land cover types are allowed: industrial_from, crops, non-irrigated, row crops, \u001B[39m\u001B[33m'\u001B[39m\n\u001B[32m   1715\u001B[39m           \u001B[33m'\u001B[39m\u001B[33mshrubland, grassland, pasture, forest, unspecified.\u001B[39m\u001B[33m'\u001B[39m)\n\u001B[32m-> \u001B[39m\u001B[32m1716\u001B[39m     sys.exit()\n\u001B[32m   1717\u001B[39m amount_land_cover = (\n\u001B[32m   1718\u001B[39m                             land_use_permanent_intensity + \u001B[32m7000\u001B[39m) * turbine_power  \u001B[38;5;66;03m# 3000 m2/MW permanent, 7000 m2/MW temporal.\u001B[39;00m\n\u001B[32m   1720\u001B[39m \u001B[38;5;66;03m# transformation, to\u001B[39;00m\n",
      "\u001B[31mSystemExit\u001B[39m: "
     ]
    }
   ],
   "execution_count": 14
  },
  {
   "cell_type": "markdown",
   "id": "32f9198b-3627-4892-818d-481d79611886",
   "metadata": {},
   "source": [
    "And compare the land-use impacts with the previous wind park we created:"
   ]
  },
  {
   "cell_type": "code",
   "id": "af0704fc-3122-4962-ab77-43e02eb33d9c",
   "metadata": {},
   "source": [
    "previous_park_score_unit, previous_park_score_kwh = lca_wind_turbine(park_name='my_wind_park', park_power=100.0, method='EF v3.1', \n",
    "                               indicators=[('EF v3.1', 'land use', 'soil quality index')\n",
    "                                          ], \n",
    "                               turbine=False, new_db=new_db)\n",
    "new_park_score_unit, new_park_score_kwh  = lca_wind_turbine(park_name='my_wind_park_LandUse', park_power=100.0, method='EF v3.1', \n",
    "                               indicators=[('EF v3.1', 'land use', 'soil quality index')\n",
    "                                          ], \n",
    "                               turbine=False, new_db=new_db)\n",
    "print(f'Land Use score previous park (FU=one park): {previous_park_score_unit}; (FU=1kWh): {previous_park_score_kwh}')\n",
    "print(f'Land Use score new park(FU=one park): {new_park_score_unit}; (FU=1kWh): {new_park_score_kwh}')"
   ],
   "outputs": [],
   "execution_count": null
  },
  {
   "cell_type": "markdown",
   "id": "f91c4052-316f-4cd0-9c19-1fc718f78358",
   "metadata": {},
   "source": [
    "### 4.5 Creating a future wind park"
   ]
  },
  {
   "cell_type": "markdown",
   "id": "fd77e9f3-d492-4c90-b922-12b8f016288c",
   "metadata": {},
   "source": [
    "There are some input variables that allow to model more 'futuristic' wind turbine designs. For instance, if the turbine you are designing is going to be installed 10 years from now, you may want to consider that the steel industry (with a huge impact in wind turbines) has improved its recycling shares, and is using a cleaner electricity mix. Moreover, you can adapt the end-of-life scenario to consider optimistic recycling rates. Finally, you may want to add a higher capacity factor (due to, for instance, technichal improvements). A summary of how would this be implemented:\n",
    "- Steel recycling rate improvement: recycled_share_steel=0.6 (European recycled steel share in 2021 was 0.435)\n",
    "- Steel electricity mix improvement: electricity_mix_steel='Norway' (only options: 'Norway', 'Europe', 'Poland')\n",
    "- Optimistic recycling rates (rr): eol_scenario=2 (eol_scenario=1 means current rr, eol_scenario=2 means optimistic rr, eol_scenario=3 means pessimistic rr)\n",
    "- Higher capacity factor: cf=0.4 (This is a 40%. The European mean in 2024 was 24%)"
   ]
  },
  {
   "cell_type": "code",
   "id": "d935e5a2-45e8-48f5-aeeb-29061b2c1cc2",
   "metadata": {},
   "source": [
    "lci_wind_turbine(park_name='my_wind_park_future',\n",
    "                 park_power=100.0,\n",
    "                 number_of_turbines=20,\n",
    "                 park_location='ES',\n",
    "                 park_coordinates=(41.502, -1.126),\n",
    "                 manufacturer='Siemens Gamesa',\n",
    "                 rotor_diameter=130,\n",
    "                 turbine_power=5.0,\n",
    "                 hub_height=140,\n",
    "                 commissioning_year=2030,\n",
    "                 generator_type='gb_dfig',\n",
    "                 lifetime=25,\n",
    "                 cf=0.40,\n",
    "                 eol_scenario=2,\n",
    "                 electricity_mix_steel='Norway',\n",
    "                 recycled_share_steel=0.6,\n",
    "                 new_db=new_db,\n",
    "                 biosphere3=biosphere,\n",
    "                 cutoff391=ei_cutoff\n",
    "                )"
   ],
   "outputs": [],
   "execution_count": null
  },
  {
   "metadata": {},
   "cell_type": "markdown",
   "source": "And compare climate change impacts with the previous turbine modelled in section 4.1 in this notebook:",
   "id": "cc1dbc063cf263be"
  },
  {
   "metadata": {},
   "cell_type": "code",
   "source": [
    "previous_park_score_unit, previous_park_score_kwh = lca_wind_turbine(park_name='my_wind_park', park_power=100.0, method='EF v3.1',\n",
    "                               indicators=[('EF v3.1', 'climate change', 'global warming potential (GWP100)')\n",
    "                                          ],\n",
    "                               turbine=False, new_db=new_db)\n",
    "new_park_score_unit, new_park_score_kwh  = lca_wind_turbine(park_name='my_wind_park_future', park_power=100.0, method='EF v3.1',\n",
    "                               indicators=[('EF v3.1', 'climate change', 'global warming potential (GWP100)')\n",
    "                                          ],\n",
    "                               turbine=False, new_db=new_db)\n",
    "print(f'Climate Change score previous park (FU=one park): {previous_park_score_unit}; (FU=1kWh): {previous_park_score_kwh}')\n",
    "print(f'Climate Change score new park(FU=one park): {new_park_score_unit}; (FU=1kWh): {new_park_score_kwh}')"
   ],
   "id": "673c80c439339385",
   "outputs": [],
   "execution_count": null
  }
 ],
 "metadata": {
  "kernelspec": {
   "display_name": "Python 3 (ipykernel)",
   "language": "python",
   "name": "python3"
  },
  "language_info": {
   "codemirror_mode": {
    "name": "ipython",
    "version": 3
   },
   "file_extension": ".py",
   "mimetype": "text/x-python",
   "name": "python",
   "nbconvert_exporter": "python",
   "pygments_lexer": "ipython3",
   "version": "3.12.5"
  }
 },
 "nbformat": 4,
 "nbformat_minor": 5
}
