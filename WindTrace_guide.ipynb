{
 "cells": [
  {
   "cell_type": "markdown",
   "id": "ea0578a9-c482-4079-8415-52ff67b75eb4",
   "metadata": {},
   "source": [
    "## About WindTrace\n",
    "WindTrace is a python open-source parametric life-cycle inventory model to create tailor-made inventories of onshore wind turbines and park fleets and assess their environmental impacts. \\\n",
    "More information on GitHub: https://github.com/LIVENlab/WindTrace_public\n",
    "\n",
    "Copyright (c) 2025 LIVEN lab \\\n",
    "Licensed under the MIT License. See LICENSE for details."
   ]
  },
  {
   "cell_type": "markdown",
   "id": "4e6ca043-bf38-4006-86b3-be269f511d1c",
   "metadata": {},
   "source": [
    "## WindTrace step-by-step"
   ]
  },
  {
   "cell_type": "markdown",
   "id": "dd07d2fd-a462-4258-a100-0fbce26da4a8",
   "metadata": {},
   "source": [
    "### Outlook\n",
    "#### 1. Create environment and install the requirements\n",
    "#### 2. Set consts.py variables\n",
    "#### 3. Create/open a brightway project\n",
    "#### 4. Creating life-cycle inventories\n",
    "##### 4.1 Example of application\n",
    "##### 4.2 Exploring the inventories\n",
    "##### 4.3 Calculating LCIA scores\n",
    "##### 4.4 Another example with land use focus\n",
    "##### 4.5 Creating a future wind park\n",
    "#### 5. Importing example turbine datasets"
   ]
  },
  {
   "cell_type": "markdown",
   "id": "b308e8ce-d77e-47bf-832a-74b216c1c066",
   "metadata": {},
   "source": [
    "  \n",
    "  "
   ]
  },
  {
   "cell_type": "markdown",
   "id": "d36451e8-610f-440a-b818-7e5e8ae9421c",
   "metadata": {},
   "source": [
    "### 1. Create environment and install the requirements"
   ]
  },
  {
   "cell_type": "markdown",
   "id": "687fb996-6798-44a6-98ed-208be15691a4",
   "metadata": {},
   "source": [
    "Open the conda console and run the following line. Be sure you are in the folder where the environment.yml file is saved.\n",
    "```ruby\n",
    "conda env create -f environment.yml \n",
    "```\n",
    "This will create a new environment called 'windtrace_env' with all the packages you need to run this Jupyter Notebook already installed. \\\n",
    "Make sure to activate this environment before running this Notebook."
   ]
  },
  {
   "cell_type": "markdown",
   "id": "63a25608-2d8d-44f4-a48c-b31dc6f3451d",
   "metadata": {},
   "source": [
    "### 2. Set consts.py variables"
   ]
  },
  {
   "cell_type": "markdown",
   "id": "ade15cfb-f496-47c6-ab11-c9373bfb088d",
   "metadata": {},
   "source": [
    "**IMPORTANT**: Before running anything, in the file consts.py set the following variables: PROJECT_NAME, SPOLD_FILES, and NEW_DB_NAME.\n",
    "- PROJECT_NAME: name of the brightway project to be used.\n",
    "- SPOLD_FILES: folder path where you have the Spoldfiles from Ecoinvent in your local disk.\n",
    "- NEW_DB_NAME: name of the databes where all the new wind turbine inventories you creeated will be stored."
   ]
  },
  {
   "cell_type": "markdown",
   "id": "9cd66784-0150-4b7b-8c8d-835c50138ab9",
   "metadata": {},
   "source": [
    "### 3. Create/open a brightway project"
   ]
  },
  {
   "cell_type": "code",
   "execution_count": 1,
   "id": "0aee97f4-3b7a-45e6-9d91-db71c16cc013",
   "metadata": {},
   "outputs": [],
   "source": [
    "import bw2data as bd\n",
    "import bw2io as bi\n",
    "import consts\n",
    "from WindTrace_onshore import *"
   ]
  },
  {
   "cell_type": "code",
   "execution_count": 2,
   "id": "b5e105f2-7f16-480d-ae97-04d4ba94a500",
   "metadata": {},
   "outputs": [
    {
     "name": "stdout",
     "output_type": "stream",
     "text": [
      "Creating default biosphere\n",
      "\n",
      "Applying strategy: normalize_units\n",
      "Applying strategy: drop_unspecified_subcategories\n",
      "Applying strategy: ensure_categories_are_tuples\n",
      "Applied 3 strategies in 0.01 seconds\n"
     ]
    },
    {
     "name": "stderr",
     "output_type": "stream",
     "text": [
      "100%|███████████████████████████████████████████████████████████████████████████| 4709/4709 [00:00<00:00, 25047.62it/s]\n"
     ]
    },
    {
     "name": "stdout",
     "output_type": "stream",
     "text": [
      "Vacuuming database \n",
      "Created database: biosphere3\n",
      "Creating default LCIA methods\n",
      "\n",
      "Wrote 762 LCIA methods with 227223 characterization factors\n",
      "Creating core data migrations\n",
      "\n"
     ]
    }
   ],
   "source": [
    "bd.projects.set_current(consts.PROJECT_NAME)\n",
    "bi.bw2setup()"
   ]
  },
  {
   "cell_type": "code",
   "execution_count": 4,
   "id": "1c296c51-88e3-483e-8a2e-f5788837e458",
   "metadata": {},
   "outputs": [
    {
     "name": "stderr",
     "output_type": "stream",
     "text": [
      "100%|████████████████████████████████████████████████████████████████████████████| 21238/21238 [06:18<00:00, 56.13it/s]\n"
     ]
    },
    {
     "name": "stdout",
     "output_type": "stream",
     "text": [
      "Extracted 21238 datasets in 381.08 seconds\n",
      "Applying strategy: normalize_units\n",
      "Applying strategy: update_ecoinvent_locations\n",
      "Applying strategy: remove_zero_amount_coproducts\n",
      "Applying strategy: remove_zero_amount_inputs_with_no_activity\n",
      "Applying strategy: remove_unnamed_parameters\n",
      "Applying strategy: es2_assign_only_product_with_amount_as_reference_product\n",
      "Applying strategy: assign_single_product_as_activity\n",
      "Applying strategy: create_composite_code\n",
      "Applying strategy: drop_unspecified_subcategories\n",
      "Applying strategy: fix_ecoinvent_flows_pre35\n",
      "Applying strategy: drop_temporary_outdated_biosphere_flows\n",
      "Applying strategy: link_biosphere_by_flow_uuid\n",
      "Applying strategy: link_internal_technosphere_by_composite_code\n",
      "Applying strategy: delete_exchanges_missing_activity\n",
      "Applying strategy: delete_ghost_exchanges\n",
      "Applying strategy: remove_uncertainty_from_negative_loss_exchanges\n",
      "Applying strategy: fix_unreasonably_high_lognormal_uncertainties\n",
      "Applying strategy: convert_activity_parameters_to_list\n",
      "Applying strategy: add_cpc_classification_from_single_reference_product\n",
      "Applying strategy: delete_none_synonyms\n",
      "Applying strategy: update_social_flows_in_older_consequential\n",
      "Applying strategy: set_lognormal_loc_value\n",
      "Applied 22 strategies in 5.99 seconds\n",
      "Not able to determine geocollections for all datasets. This database is not ready for regionalization.\n"
     ]
    },
    {
     "name": "stderr",
     "output_type": "stream",
     "text": [
      "100%|███████████████████████████████████████████████████████████████████████████| 21238/21238 [00:50<00:00, 421.06it/s]\n"
     ]
    },
    {
     "name": "stdout",
     "output_type": "stream",
     "text": [
      "Vacuuming database \n",
      "Created database: cutoff391\n"
     ]
    }
   ],
   "source": [
    "spold_files = consts.SPOLD_FILES\n",
    "if \"cutoff391\" not in bd.databases:\n",
    "    ei = bi.SingleOutputEcospold2Importer(spold_files, \"cutoff391\", use_mp=False)\n",
    "    ei.apply_strategies()\n",
    "    ei.write_database()\n",
    "cutoff391 = bd.Database(\"cutoff391\")\n",
    "if consts.NEW_DB_NAME not in bd.databases:\n",
    "    new_db = bd.Database(consts.NEW_DB_NAME)\n",
    "    new_db.register()\n",
    "new_db = bd.Database(consts.NEW_DB_NAME)\n",
    "biosphere3 = bd.Database('biosphere3')"
   ]
  },
  {
   "cell_type": "markdown",
   "id": "f2da1eee-5349-4411-8457-86ea47d4f41a",
   "metadata": {},
   "source": [
    "### 4. Creating life-cycle inventories"
   ]
  },
  {
   "cell_type": "markdown",
   "id": "99e0d5f8-3009-4075-abc7-b4932d1a7655",
   "metadata": {},
   "source": [
    "The function allowing to create customized inventories is **lci_wind_turbine()**, which admits the following parameters:\n",
    "| Parameter                   | Description                                                  | Default value                                   | Type                                                           |\n",
    "|-----------------------------|--------------------------------------------------------------|-------------------------------------------------|----------------------------------------------------------------|\n",
    "| Park name                   | Name of the wind park                                        | No                                              | str                                                            |\n",
    "| Park power                  | Total power of the wind park [MW]                            | No                                              | float                                                          |\n",
    "| Number of turbines          | Number of turbines in the wind park                          | No                                              | int                                                            |\n",
    "| Park location               | Abbreviation of the country (ISO 3166-1 alpha-2 codes)       | No                                              | str                                                            |\n",
    "| Park coordinates            | WGS84 coordinates of the wind park (latitude, longitude)     | No                                              | tuple                                                          |\n",
    "| Manufacturer                | Name of the turbine manufacturer     | LM Wind                                         | str [Literal['LM Wind','Vestas','Siemens Gamesa','Enercon','Nordex']                   |\n",
    "| Rotor diameter              | Diameter of the rotor (in meters)                            | No                                              | int                                                            |\n",
    "| Turbine rated power         | Nominal power of the individual turbines [MW]                | No                                              | float                                                          |\n",
    "| Hub height                  | Height of the turbine (in meters)                           | No                                              | float                                                          |\n",
    "| Regression adjustment       | Calculate mass of steel as a function of 'D2h' or 'hub height'| D2h                                            | Literal['D2h', 'Hub height']\n",
    " |\n",
    "| Commissioning year          | Year when the turbine started operation                      | No                                              | int                                                            |\n",
    "| Recycled steel share        | Recycled content share of steel                       | Data from Eurofer (2012-2021)                   | float                                                          |\n",
    "| Land use permanent intensity | Permanent direct land transformation per MW                 | 3000 m²/MW                                      | float                                                          |\n",
    "| Electricity mix steel       | Country of the electricity mix for steel production                         | Mix per Eurofer data by country                 | Optional[Literal['Norway', 'Europe', 'Poland']]                |\n",
    "| Generator type              | Gearbox and type of generator                                | Doubly fed induction generator (gearbox)        | Optional[Literal['dd_eesg', 'dd_pmsg', 'gb_pmsg', 'gb_dfig']]  |                                                           |\n",
    "| Land cover type             | Land cover type prior to turbine installation                | No                                              | str[Literal['industrial, from','crops, non-irrigated','unspecified', 'row crops', 'shrubland', 'grassland', 'pasture', 'forest', 'industrial','road']                                              |\n",
    "| End-of-life scenario        | Scenario based on material recycling rates (1: baseline, 2: optimistic, 3: pessimistic)                   | Baseline                                        | str                                                            |\n",
    "| Lifetime                    | Expected lifetime of the turbine (years)                            | 20 years                                        | int                                                            |\n",
    "| Capacity factor             | Ratio of average delivered electricity to maximum theoretical production | 0.24                                            | float                                                          |\n",
    "| Attrition rate              | Annual efficiency reduction due to wear                      | 0.009                                           | float                                                          |\n",
    "\n",
    "Parameters without a default value must be filled. Parameters with a default value are not compulsory but can be adapted to the user needs."
   ]
  },
  {
   "cell_type": "markdown",
   "id": "6838a86a-3d5c-47ca-a9ea-35458f4c5111",
   "metadata": {},
   "source": [
    "### 4.1. Example of application"
   ]
  },
  {
   "cell_type": "markdown",
   "id": "dd10bf67-a213-4929-9b90-cf2ae7051213",
   "metadata": {},
   "source": [
    "Let's build an imaginary 100 MW wind park ('my_wind_park') of 20 turbines, 5 MW each, in a random location in Spain. \\\n",
    "The manufacturer of the turbine is Siemens Gamesa, with turbines of 130 m rotor diameter, 140 m hub height and a gear-boxed double-fed induction generation drivetrain. \\\n",
    "The park is commissioned in 2020 and is expected to last for 25 years. \\\n",
    "The expected initial capacity factor is 24%. \\\n",
    "**IMPORTANT**: make sure the name you give to the park (park_name variable) has not been used previously in your database! This means, you cannot create two wind parks with the exact same name in the same database."
   ]
  },
  {
   "cell_type": "code",
   "execution_count": 7,
   "id": "a364614c-c223-4c02-b04d-308c070c2ff6",
   "metadata": {},
   "outputs": [
    {
     "name": "stdout",
     "output_type": "stream",
     "text": [
      "WARNING. You did not select any electricity_mix. The mean shares by country applied in the steel industry between 2017 and 2021 will be used\n",
      "Electricity mix: European mix provided by Eurofer\n"
     ]
    },
    {
     "ename": "ValidityError",
     "evalue": "This activity can't be saved for the following reasons\n\t* ``database`` refers to unknown database",
     "output_type": "error",
     "traceback": [
      "\u001b[31m---------------------------------------------------------------------------\u001b[39m",
      "\u001b[31mValidityError\u001b[39m                             Traceback (most recent call last)",
      "\u001b[36mCell\u001b[39m\u001b[36m \u001b[39m\u001b[32mIn[7]\u001b[39m\u001b[32m, line 1\u001b[39m\n\u001b[32m----> \u001b[39m\u001b[32m1\u001b[39m lci_wind_turbine(park_name=\u001b[33m'\u001b[39m\u001b[33mmy_wind_park\u001b[39m\u001b[33m'\u001b[39m, \n\u001b[32m      2\u001b[39m                  park_power=\u001b[32m100.0\u001b[39m, \n\u001b[32m      3\u001b[39m                  number_of_turbines=\u001b[32m20\u001b[39m, \n\u001b[32m      4\u001b[39m                  park_location=\u001b[33m'\u001b[39m\u001b[33mES\u001b[39m\u001b[33m'\u001b[39m, \n\u001b[32m      5\u001b[39m                  park_coordinates=(\u001b[32m41.502\u001b[39m, -\u001b[32m1.126\u001b[39m), \n\u001b[32m      6\u001b[39m                  manufacturer=\u001b[33m'\u001b[39m\u001b[33mSiemens Gamesa\u001b[39m\u001b[33m'\u001b[39m, \n\u001b[32m      7\u001b[39m                  rotor_diameter=\u001b[32m130\u001b[39m, \n\u001b[32m      8\u001b[39m                  turbine_power=\u001b[32m5.0\u001b[39m, \n\u001b[32m      9\u001b[39m                  hub_height=\u001b[32m140\u001b[39m, \n\u001b[32m     10\u001b[39m                  commissioning_year=\u001b[32m2020\u001b[39m, \n\u001b[32m     11\u001b[39m                  generator_type=\u001b[33m'\u001b[39m\u001b[33mgb_dfig\u001b[39m\u001b[33m'\u001b[39m,  \n\u001b[32m     12\u001b[39m                  lifetime=\u001b[32m25\u001b[39m,  \n\u001b[32m     13\u001b[39m                  cf=\u001b[32m0.24\u001b[39m,\n\u001b[32m     14\u001b[39m                  new_db=new_db,\n\u001b[32m     15\u001b[39m                  biosphere3=biosphere3,\n\u001b[32m     16\u001b[39m                  cutoff391=cutoff391\n\u001b[32m     17\u001b[39m                 )\n",
      "\u001b[36mFile \u001b[39m\u001b[32m~\\Documents\\GitHub\\WindTrace_public\\WindTrace_onshore.py:1618\u001b[39m, in \u001b[36mlci_wind_turbine\u001b[39m\u001b[34m(new_db, cutoff391, biosphere3, park_name, park_power, number_of_turbines, park_location, park_coordinates, manufacturer, rotor_diameter, turbine_power, hub_height, commissioning_year, generator_type, recycled_share_steel, electricity_mix_steel, lifetime, land_use_permanent_intensity, land_cover_type, eol_scenario, cf, time_adjusted_cf, regression_adjustment, include_life_cycle_stages, eol, transportation, use_and_maintenance, installation, comment)\u001b[39m\n\u001b[32m   1613\u001b[39m \u001b[38;5;28;01mif\u001b[39;00m installation \u001b[38;5;129;01mand\u001b[39;00m \u001b[38;5;129;01mnot\u001b[39;00m land_cover_type:\n\u001b[32m   1614\u001b[39m     trans, occ = land_use(turbine_power=turbine_power, park_name=park_name,\n\u001b[32m   1615\u001b[39m                           include_life_cycle_stages=include_life_cycle_stages, lifetime=lifetime,\n\u001b[32m   1616\u001b[39m                           land_use_permanent_intensity=land_use_permanent_intensity,\n\u001b[32m   1617\u001b[39m                           biosphere3=biosphere3, new_db=new_db)\n\u001b[32m-> \u001b[39m\u001b[32m1618\u001b[39m     auxiliary_road_materials(turbine_power=turbine_power, park_name=park_name,\n\u001b[32m   1619\u001b[39m                              include_life_cycle_stages=include_life_cycle_stages,\n\u001b[32m   1620\u001b[39m                              new_db=new_db, cutoff391=cutoff391)\n\u001b[32m   1621\u001b[39m     excavation_activities(generator_type=generator_type, turbine_power=turbine_power, hub_height=hub_height,\n\u001b[32m   1622\u001b[39m                           rotor_diameter=rotor_diameter, number_of_turbines=number_of_turbines, park_name=park_name,\n\u001b[32m   1623\u001b[39m                           include_life_cycle_stages=include_life_cycle_stages,\n\u001b[32m   1624\u001b[39m                           regression_adjustment=regression_adjustment,\n\u001b[32m   1625\u001b[39m                           new_db=new_db, cutoff391=cutoff391)\n\u001b[32m   1626\u001b[39m \u001b[38;5;28;01melif\u001b[39;00m installation \u001b[38;5;129;01mand\u001b[39;00m land_cover_type:\n",
      "\u001b[36mFile \u001b[39m\u001b[32m~\\Documents\\GitHub\\WindTrace_public\\WindTrace_onshore.py:1437\u001b[39m, in \u001b[36mauxiliary_road_materials\u001b[39m\u001b[34m(new_db, cutoff391, turbine_power, park_name, include_life_cycle_stages)\u001b[39m\n\u001b[32m   1435\u001b[39m \u001b[38;5;28;01mif\u001b[39;00m \u001b[38;5;129;01mnot\u001b[39;00m road_act_in_new_db:\n\u001b[32m   1436\u001b[39m     road_act = cutoff391.get(code=\u001b[33m'\u001b[39m\u001b[33m3d1d98819862a4057c75095315820d52\u001b[39m\u001b[33m'\u001b[39m)\n\u001b[32m-> \u001b[39m\u001b[32m1437\u001b[39m     road_new = road_act.copy(database=\u001b[33m\"\u001b[39m\u001b[33mnew_db\u001b[39m\u001b[33m\"\u001b[39m)\n\u001b[32m   1438\u001b[39m     technosphere_activities_to_remove = [\u001b[33m'\u001b[39m\u001b[33mbitumen\u001b[39m\u001b[33m'\u001b[39m, \u001b[33m'\u001b[39m\u001b[33mconcrete\u001b[39m\u001b[33m'\u001b[39m, \u001b[33m'\u001b[39m\u001b[33msteel\u001b[39m\u001b[33m'\u001b[39m]\n\u001b[32m   1439\u001b[39m     \u001b[38;5;28;01mfor\u001b[39;00m ex \u001b[38;5;129;01min\u001b[39;00m road_new.biosphere():\n",
      "\u001b[36mFile \u001b[39m\u001b[32m~\\.conda\\envs\\windtrace_2\\Lib\\site-packages\\bw2data\\backends\\proxies.py:484\u001b[39m, in \u001b[36mActivity.copy\u001b[39m\u001b[34m(self, code, **kwargs)\u001b[39m\n\u001b[32m    482\u001b[39m     activity._data[k] = v\n\u001b[32m    483\u001b[39m activity._data[\u001b[33m\"\u001b[39m\u001b[33mcode\u001b[39m\u001b[33m\"\u001b[39m] = \u001b[38;5;28mstr\u001b[39m(code \u001b[38;5;129;01mor\u001b[39;00m uuid.uuid4().hex)\n\u001b[32m--> \u001b[39m\u001b[32m484\u001b[39m activity.save()\n\u001b[32m    486\u001b[39m \u001b[38;5;28;01mfor\u001b[39;00m exc \u001b[38;5;129;01min\u001b[39;00m \u001b[38;5;28mself\u001b[39m.exchanges():\n\u001b[32m    487\u001b[39m     data = copy.deepcopy(exc._data)\n",
      "\u001b[36mFile \u001b[39m\u001b[32m~\\.conda\\envs\\windtrace_2\\Lib\\site-packages\\bw2data\\backends\\proxies.py:305\u001b[39m, in \u001b[36mActivity.save\u001b[39m\u001b[34m(self)\u001b[39m\n\u001b[32m    302\u001b[39m \u001b[38;5;28;01mfrom\u001b[39;00m\u001b[38;5;250m \u001b[39m\u001b[34;01m.\u001b[39;00m\u001b[34;01m.\u001b[39;00m\u001b[38;5;250m \u001b[39m\u001b[38;5;28;01mimport\u001b[39;00m Database\n\u001b[32m    304\u001b[39m \u001b[38;5;28;01mif\u001b[39;00m \u001b[38;5;129;01mnot\u001b[39;00m \u001b[38;5;28mself\u001b[39m.valid():\n\u001b[32m--> \u001b[39m\u001b[32m305\u001b[39m     \u001b[38;5;28;01mraise\u001b[39;00m ValidityError(\n\u001b[32m    306\u001b[39m         \u001b[33m\"\u001b[39m\u001b[33mThis activity can\u001b[39m\u001b[33m'\u001b[39m\u001b[33mt be saved for the \u001b[39m\u001b[33m\"\u001b[39m\n\u001b[32m    307\u001b[39m         + \u001b[33m\"\u001b[39m\u001b[33mfollowing reasons\u001b[39m\u001b[38;5;130;01m\\n\u001b[39;00m\u001b[38;5;130;01m\\t\u001b[39;00m\u001b[33m* \u001b[39m\u001b[33m\"\u001b[39m\n\u001b[32m    308\u001b[39m         + \u001b[33m\"\u001b[39m\u001b[38;5;130;01m\\n\u001b[39;00m\u001b[38;5;130;01m\\t\u001b[39;00m\u001b[33m* \u001b[39m\u001b[33m\"\u001b[39m.join(\u001b[38;5;28mself\u001b[39m.valid(why=\u001b[38;5;28;01mTrue\u001b[39;00m)[\u001b[32m1\u001b[39m])\n\u001b[32m    309\u001b[39m     )\n\u001b[32m    311\u001b[39m databases.set_dirty(\u001b[38;5;28mself\u001b[39m[\u001b[33m\"\u001b[39m\u001b[33mdatabase\u001b[39m\u001b[33m\"\u001b[39m])\n\u001b[32m    313\u001b[39m check_activity_type(\u001b[38;5;28mself\u001b[39m._data.get(\u001b[33m\"\u001b[39m\u001b[33mtype\u001b[39m\u001b[33m\"\u001b[39m))\n",
      "\u001b[31mValidityError\u001b[39m: This activity can't be saved for the following reasons\n\t* ``database`` refers to unknown database"
     ]
    }
   ],
   "source": [
    "lci_wind_turbine(park_name='my_wind_park', \n",
    "                 park_power=100.0, \n",
    "                 number_of_turbines=20, \n",
    "                 park_location='ES', \n",
    "                 park_coordinates=(41.502, -1.126), \n",
    "                 manufacturer='Siemens Gamesa', \n",
    "                 rotor_diameter=130, \n",
    "                 turbine_power=5.0, \n",
    "                 hub_height=140, \n",
    "                 commissioning_year=2020, \n",
    "                 generator_type='gb_dfig',\n",
    "                 lifetime=25,  \n",
    "                 cf=0.24,\n",
    "                 new_db=new_db,\n",
    "                 biosphere3=biosphere3,\n",
    "                 cutoff391=cutoff391\n",
    "                )"
   ]
  },
  {
   "cell_type": "markdown",
   "id": "df37f68a-1880-440e-8d26-47e00e647eff",
   "metadata": {},
   "source": [
    "### 4.2 Exploring the inventories"
   ]
  },
  {
   "cell_type": "markdown",
   "id": "53392a0c-2387-4605-9dd4-371cce59892f",
   "metadata": {},
   "source": [
    "The inventories are given by unit of turbine, unit of park, and kWh (for both turbine and park). In this example, the inventoris would have the following names (and codes):\n",
    "\n",
    "- Turbine (FU=unit): my_wind_park_single_turbine\n",
    "- Turbine (FU=kWh): my_wind_park_turbine_kwh\n",
    "- Park (FU=unit): my_wind_park_10.0\n",
    "- Park (FU=kWh): my_wind_park_kwh\n",
    "\n",
    "You can access them as follows:"
   ]
  },
  {
   "cell_type": "code",
   "execution_count": 12,
   "id": "f2d64f15-b76c-4afc-9a81-a223205f6f39",
   "metadata": {},
   "outputs": [],
   "source": [
    "# park (FU=unit)\n",
    "park_unit_act = bd.Database(consts.NEW_DB_NAME).get('my_wind_park_100.0')\n",
    "park_kwh_act = bd.Database(consts.NEW_DB_NAME).get('my_wind_park_park_kwh')\n",
    "turbine_unit_act = bd.Database(consts.NEW_DB_NAME).get('my_wind_park_single_turbine')\n",
    "turbine_kwh_act = bd.Database(consts.NEW_DB_NAME).get('my_wind_park_turbine_kwh')"
   ]
  },
  {
   "cell_type": "markdown",
   "id": "b8ec0a33-add1-4ca4-b97e-6b559ba08175",
   "metadata": {},
   "source": [
    "### 4.3 Calculating LCIA scores"
   ]
  },
  {
   "cell_type": "markdown",
   "id": "da3392af-4075-45d8-9326-05fae5b0a7f3",
   "metadata": {},
   "source": [
    "LCA impacts of a park or an individual turbine of the park can be calculated with lca_wind_turbine(). It returns two dictionaries: the first one being results per unit and the second one being results per kWh. Default results are given per turbine. For the whole park, you must set the parameter 'turbine' to False. ReCiPe 2016 v1.03, midpoint (H) is the default LCIA method. It can be manually changed by giving the parameter 'method' another name of a method in Brightway.\n",
    "\n",
    "Here an example of application for the whole park. The first dictionary saves scores per FU=unit, and the second per FU=1kWh"
   ]
  },
  {
   "cell_type": "code",
   "execution_count": 13,
   "id": "9c7b4a9c-3ef1-4fd8-9c0f-28ae212c0368",
   "metadata": {},
   "outputs": [
    {
     "name": "stdout",
     "output_type": "stream",
     "text": [
      "Functional unit: 1 wind park\n",
      "LCIA methods: EF v3.1\n",
      "CF: 0.24. Attrition rate: 0.009\n"
     ]
    }
   ],
   "source": [
    "lcia_scores_unit, lcia_scores_kwh = lca_wind_turbine(park_name='my_wind_park', park_power=100.0, method='EF v3.1', turbine=False, new_db=new_db)"
   ]
  },
  {
   "cell_type": "markdown",
   "id": "ea8619d7-453f-413a-a3e8-3b5a60530814",
   "metadata": {},
   "source": [
    "Alternatively, you can give it a certain set of indicators of your choice as a list with the variable 'indicators'. Example:"
   ]
  },
  {
   "cell_type": "code",
   "execution_count": 14,
   "id": "72ce1451-3bf7-4167-8392-cb1bcc93b258",
   "metadata": {},
   "outputs": [
    {
     "name": "stdout",
     "output_type": "stream",
     "text": [
      "Functional unit: 1 wind park\n",
      "LCIA methods: ('CML v4.8 2016 no LT', 'acidification no LT', 'acidification (incl. fate, average Europe total, A&B) no LT'), ('Cumulative Energy Demand (CED)', 'energy resources: renewable', 'energy content (HHV)'), ('Ecological Scarcity 2021 no LT', 'climate change no LT', 'global warming potential (GWP100) no LT')\n",
      "CF: 0.24. Attrition rate: 0.009\n"
     ]
    }
   ],
   "source": [
    "lcia_scores_unit, lcia_scores_kwh = lca_wind_turbine(park_name='my_wind_park', park_power=100.0, method='EF v3.1', \n",
    "                               indicators=[('CML v4.8 2016 no LT', 'acidification no LT', 'acidification (incl. fate, average Europe total, A&B) no LT'), \n",
    "                                           ('Cumulative Energy Demand (CED)', 'energy resources: renewable', 'energy content (HHV)'),\n",
    "                                           ('Ecological Scarcity 2021 no LT', 'climate change no LT', 'global warming potential (GWP100) no LT')\n",
    "                                          ], \n",
    "                               turbine=False, new_db=new_db)"
   ]
  },
  {
   "cell_type": "markdown",
   "id": "edfd48cd-7d1e-408d-9928-a99866d55b0f",
   "metadata": {},
   "source": [
    "### 4.4 Another example with land use focus"
   ]
  },
  {
   "cell_type": "markdown",
   "id": "99600baa-9e7c-43de-85cf-50d884a56331",
   "metadata": {},
   "source": [
    "Now let's build another wind park changing a bit the land use related parameters. Let's say we know the original land where the turbine will be built is a pasture. Let's say we also know that the permanent land use intensity is smaller than the default number we use. This parameter should include the squared meters per MW of land that will be occupied by permanent access roads, transformer, substation and the turbines themselves. We will use an intensity of 1000 m2/MW this time."
   ]
  },
  {
   "cell_type": "code",
   "execution_count": 15,
   "id": "16719762-6078-4e50-8754-829ef4054f28",
   "metadata": {},
   "outputs": [
    {
     "name": "stdout",
     "output_type": "stream",
     "text": [
      "Time-adjusted cf applied with an attrition coefficient of 0.009\n"
     ]
    },
    {
     "data": {
      "text/plain": [
       "({'Low alloy steel': 7455354.805104657,\n",
       "  'Chromium steel': 1043984.2519468605,\n",
       "  'Cast iron': 1681063.4157545082,\n",
       "  'Aluminium': 161845.10502487788,\n",
       "  'Copper': 91393.59437802702,\n",
       "  'Epoxy resin': 311104.78386133275,\n",
       "  'Rubber': 27173.579357149145,\n",
       "  'PUR': 50570.48514631777,\n",
       "  'PVC': 135072.30653721892,\n",
       "  'Fiberglass': 712338.5970491616,\n",
       "  'electronics': 24041.93530003225,\n",
       "  'Electrics': 76255.71393607548,\n",
       "  'Lubricating oil': 31331.69045155677,\n",
       "  'Low alloy steel_foundations': 2052452.3349240404,\n",
       "  'Chromium steel_foundations': 171367.63623532938,\n",
       "  'Concrete_foundations': 15677.101183848605,\n",
       "  'Praseodymium': 0.0,\n",
       "  'Neodymium': 1200.0,\n",
       "  'Dysprosium': 200.0,\n",
       "  'Terbium': 0.0,\n",
       "  'Boron': 0.0,\n",
       "  'PE': 1129.9114902604465},\n",
       " 40000.0,\n",
       " 212500.0)"
      ]
     },
     "execution_count": 15,
     "metadata": {},
     "output_type": "execute_result"
    }
   ],
   "source": [
    "lci_wind_turbine(park_name='my_wind_park_LandUse', \n",
    "                 park_power=100.0, \n",
    "                 number_of_turbines=20, \n",
    "                 park_location='ES', \n",
    "                 park_coordinates=(41.502, -1.126), \n",
    "                 manufacturer='Siemens Gamesa', \n",
    "                 rotor_diameter=130, \n",
    "                 turbine_power=5.0, \n",
    "                 hub_height=140, \n",
    "                 commissioning_year=2020, \n",
    "                 generator_type='gb_dfig',  \n",
    "                 lifetime=25,  \n",
    "                 cf=0.24,\n",
    "                 land_use_permanent_intensity=1000,\n",
    "                 land_cover_type='pasture',\n",
    "                 new_db=new_db,\n",
    "                 biosphere3=biosphere3,\n",
    "                 cutoff391=cutoff391\n",
    "                )"
   ]
  },
  {
   "cell_type": "markdown",
   "id": "32f9198b-3627-4892-818d-481d79611886",
   "metadata": {},
   "source": [
    "And compare the land-use impacts with the previous wind park we created:"
   ]
  },
  {
   "cell_type": "code",
   "execution_count": 18,
   "id": "af0704fc-3122-4962-ab77-43e02eb33d9c",
   "metadata": {},
   "outputs": [
    {
     "name": "stdout",
     "output_type": "stream",
     "text": [
      "Functional unit: 1 wind park\n",
      "LCIA methods: ('EF v3.1', 'land use', 'soil quality index')\n",
      "CF: 0.24. Attrition rate: 0.009\n",
      "Functional unit: 1 wind park\n",
      "LCIA methods: ('EF v3.1', 'land use', 'soil quality index')\n",
      "CF: 0.24. Attrition rate: 0.009\n",
      "Land Use score previous park (FU=one park): {'land use': 8093328991.7375345}; (FU=1kWh): {'land use': 1.7274932806129133}\n",
      "Land Use score new park(FU=one park): {'land use': 5751582028.022938}; (FU=1kWh): {'land use': 1.2276554328196807}\n"
     ]
    }
   ],
   "source": [
    "previous_park_score_unit, previous_park_score_kwh = lca_wind_turbine(park_name='my_wind_park', park_power=100.0, method='EF v3.1', \n",
    "                               indicators=[('EF v3.1', 'land use', 'soil quality index')\n",
    "                                          ], \n",
    "                               turbine=False, new_db=new_db)\n",
    "new_park_score_unit, new_park_score_kwh  = lca_wind_turbine(park_name='my_wind_park_LandUse', park_power=100.0, method='EF v3.1', \n",
    "                               indicators=[('EF v3.1', 'land use', 'soil quality index')\n",
    "                                          ], \n",
    "                               turbine=False, new_db=new_db)\n",
    "print(f'Land Use score previous park (FU=one park): {previous_park_score_unit}; (FU=1kWh): {previous_park_score_kwh}')\n",
    "print(f'Land Use score new park(FU=one park): {new_park_score_unit}; (FU=1kWh): {new_park_score_kwh}')"
   ]
  },
  {
   "cell_type": "markdown",
   "id": "f91c4052-316f-4cd0-9c19-1fc718f78358",
   "metadata": {},
   "source": [
    "### 4.5 Creating a future wind park"
   ]
  },
  {
   "cell_type": "markdown",
   "id": "fd77e9f3-d492-4c90-b922-12b8f016288c",
   "metadata": {},
   "source": [
    "EXPLANATION"
   ]
  },
  {
   "cell_type": "code",
   "execution_count": null,
   "id": "d935e5a2-45e8-48f5-aeeb-29061b2c1cc2",
   "metadata": {},
   "outputs": [],
   "source": []
  },
  {
   "cell_type": "markdown",
   "id": "e8ec2ce3-578f-4e99-8c09-1ea389a7aaeb",
   "metadata": {},
   "source": [
    "### 5. Importing example turbine datasets"
   ]
  },
  {
   "cell_type": "code",
   "execution_count": null,
   "id": "b7e616ad-32d8-4f1d-91de-ef70355e53de",
   "metadata": {},
   "outputs": [],
   "source": []
  }
 ],
 "metadata": {
  "kernelspec": {
   "display_name": "Python 3 (ipykernel)",
   "language": "python",
   "name": "python3"
  },
  "language_info": {
   "codemirror_mode": {
    "name": "ipython",
    "version": 3
   },
   "file_extension": ".py",
   "mimetype": "text/x-python",
   "name": "python",
   "nbconvert_exporter": "python",
   "pygments_lexer": "ipython3",
   "version": "3.12.5"
  }
 },
 "nbformat": 4,
 "nbformat_minor": 5
}
