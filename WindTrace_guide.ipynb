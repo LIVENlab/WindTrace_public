{
 "cells": [
  {
   "cell_type": "markdown",
   "id": "ea0578a9-c482-4079-8415-52ff67b75eb4",
   "metadata": {},
   "source": [
    "## About WindTrace\n",
    "WindTrace is a python open-source parametric life-cycle inventory model to create tailor-made inventories of onshore wind turbines and park fleets and assess their environmental impacts. \\\n",
    "More information on GitHub: https://github.com/LIVENlab/WindTrace_public\n",
    "\n",
    "Copyright (c) 2025 LIVEN lab \\\n",
    "Licensed under the MIT License. See LICENSE for details."
   ]
  },
  {
   "cell_type": "markdown",
   "id": "4e6ca043-bf38-4006-86b3-be269f511d1c",
   "metadata": {},
   "source": [
    "## WindTrace step-by-step"
   ]
  },
  {
   "cell_type": "markdown",
   "id": "dd07d2fd-a462-4258-a100-0fbce26da4a8",
   "metadata": {},
   "source": [
    "### Outlook\n",
    "#### 1. Create environment and install the requirements\n",
    "#### 2. Set consts.py variables\n",
    "#### 3. Create/open a brightway project\n",
    "#### 4. Creating life-cycle inventories\n",
    "##### 4.1 Example of application\n",
    "##### 4.2 Exploring the inventories\n",
    "##### 4.3 Calculating LCIA scores\n",
    "##### 4.4 Another example with land use focus\n",
    "##### 4.5 Creating a future wind park\n",
    "#### 5. Importing example turbine datasets"
   ]
  },
  {
   "cell_type": "markdown",
   "id": "b308e8ce-d77e-47bf-832a-74b216c1c066",
   "metadata": {},
   "source": [
    "  \n",
    "  "
   ]
  },
  {
   "cell_type": "markdown",
   "id": "d36451e8-610f-440a-b818-7e5e8ae9421c",
   "metadata": {},
   "source": [
    "### 1. Create environment and install the requirements"
   ]
  },
  {
   "cell_type": "markdown",
   "id": "687fb996-6798-44a6-98ed-208be15691a4",
   "metadata": {},
   "source": [
    "Open the conda console and run the following line. Be sure you are in the folder where the environment.yml file is saved.\n",
    "```ruby\n",
    "conda env create -f environment.yml \n",
    "```\n",
    "This will create a new environment called 'windtrace_env' with all the packages you need to run this Jupyter Notebook already installed. \\\n",
    "Make sure to activate this environment before running this Notebook."
   ]
  },
  {
   "cell_type": "markdown",
   "id": "63a25608-2d8d-44f4-a48c-b31dc6f3451d",
   "metadata": {},
   "source": [
    "### 2. Set consts.py variables"
   ]
  },
  {
   "cell_type": "markdown",
   "id": "ade15cfb-f496-47c6-ab11-c9373bfb088d",
   "metadata": {},
   "source": [
    "**IMPORTANT**: Before running anything, in the file consts.py set the following variables: PROJECT_NAME, SPOLD_FILES, and NEW_DB_NAME.\n",
    "- PROJECT_NAME: name of the brightway project to be used.\n",
    "- SPOLD_FILES: folder path where you have the Spoldfiles from Ecoinvent in your local disk.\n",
    "- NEW_DB_NAME: name of the databes where all the new wind turbine inventories you creeated will be stored."
   ]
  },
  {
   "cell_type": "markdown",
   "id": "9cd66784-0150-4b7b-8c8d-835c50138ab9",
   "metadata": {},
   "source": [
    "### 3. Create/open a brightway project"
   ]
  },
  {
   "cell_type": "code",
   "id": "0aee97f4-3b7a-45e6-9d91-db71c16cc013",
   "metadata": {
    "ExecuteTime": {
     "end_time": "2025-06-04T10:16:08.965135Z",
     "start_time": "2025-06-04T10:16:07.299595Z"
    }
   },
   "source": [
    "import bw2io as bi\n",
    "from WindTrace_onshore import *"
   ],
   "outputs": [],
   "execution_count": 2
  },
  {
   "cell_type": "code",
   "id": "b5e105f2-7f16-480d-ae97-04d4ba94a500",
   "metadata": {
    "ExecuteTime": {
     "end_time": "2025-06-04T10:18:39.525932Z",
     "start_time": "2025-06-04T10:16:48.940258Z"
    }
   },
   "source": [
    "bd.projects.set_current(consts.PROJECT_NAME)\n",
    "bi.bw2setup()"
   ],
   "outputs": [
    {
     "name": "stdout",
     "output_type": "stream",
     "text": [
      "Creating default biosphere\n",
      "\n",
      "Applying strategy: normalize_units\n",
      "Applying strategy: drop_unspecified_subcategories\n",
      "Applying strategy: ensure_categories_are_tuples\n",
      "Applied 3 strategies in 0.00 seconds\n"
     ]
    },
    {
     "name": "stderr",
     "output_type": "stream",
     "text": [
      "100%|██████████| 4709/4709 [00:00<00:00, 40116.95it/s]\n"
     ]
    },
    {
     "name": "stdout",
     "output_type": "stream",
     "text": [
      "Vacuuming database \n",
      "Created database: biosphere3\n",
      "Creating default LCIA methods\n",
      "\n",
      "Wrote 762 LCIA methods with 227223 characterization factors\n",
      "Creating core data migrations\n",
      "\n"
     ]
    }
   ],
   "execution_count": 4
  },
  {
   "cell_type": "code",
   "id": "1c296c51-88e3-483e-8a2e-f5788837e458",
   "metadata": {
    "ExecuteTime": {
     "end_time": "2025-06-04T10:21:46.280522Z",
     "start_time": "2025-06-04T10:18:46.404464Z"
    }
   },
   "source": [
    "spold_files = consts.SPOLD_FILES\n",
    "if \"cutoff391\" not in bd.databases:\n",
    "    ei = bi.SingleOutputEcospold2Importer(spold_files, \"cutoff391\", use_mp=False)\n",
    "    ei.apply_strategies()\n",
    "    ei.write_database()\n",
    "cutoff391 = bd.Database(\"cutoff391\")\n",
    "if consts.NEW_DB_NAME not in bd.databases:\n",
    "    new_db = bd.Database(consts.NEW_DB_NAME)\n",
    "    new_db.register()\n",
    "new_db = bd.Database(consts.NEW_DB_NAME)\n",
    "biosphere3 = bd.Database('biosphere3')"
   ],
   "outputs": [
    {
     "name": "stderr",
     "output_type": "stream",
     "text": [
      "100%|██████████| 21238/21238 [01:47<00:00, 197.97it/s]\n"
     ]
    },
    {
     "name": "stdout",
     "output_type": "stream",
     "text": [
      "Extracted 21238 datasets in 108.22 seconds\n",
      "Applying strategy: normalize_units\n",
      "Applying strategy: update_ecoinvent_locations\n",
      "Applying strategy: remove_zero_amount_coproducts\n",
      "Applying strategy: remove_zero_amount_inputs_with_no_activity\n",
      "Applying strategy: remove_unnamed_parameters\n",
      "Applying strategy: es2_assign_only_product_with_amount_as_reference_product\n",
      "Applying strategy: assign_single_product_as_activity\n",
      "Applying strategy: create_composite_code\n",
      "Applying strategy: drop_unspecified_subcategories\n",
      "Applying strategy: fix_ecoinvent_flows_pre35\n",
      "Applying strategy: drop_temporary_outdated_biosphere_flows\n",
      "Applying strategy: link_biosphere_by_flow_uuid\n",
      "Applying strategy: link_internal_technosphere_by_composite_code\n",
      "Applying strategy: delete_exchanges_missing_activity\n",
      "Applying strategy: delete_ghost_exchanges\n",
      "Applying strategy: remove_uncertainty_from_negative_loss_exchanges\n",
      "Applying strategy: fix_unreasonably_high_lognormal_uncertainties\n",
      "Applying strategy: convert_activity_parameters_to_list\n",
      "Applying strategy: add_cpc_classification_from_single_reference_product\n",
      "Applying strategy: delete_none_synonyms\n",
      "Applying strategy: update_social_flows_in_older_consequential\n",
      "Applying strategy: set_lognormal_loc_value\n",
      "Applied 22 strategies in 3.37 seconds\n",
      "Not able to determine geocollections for all datasets. This database is not ready for regionalization.\n"
     ]
    },
    {
     "name": "stderr",
     "output_type": "stream",
     "text": [
      "100%|██████████| 21238/21238 [00:30<00:00, 687.96it/s]\n"
     ]
    },
    {
     "name": "stdout",
     "output_type": "stream",
     "text": [
      "Vacuuming database \n",
      "Created database: cutoff391\n"
     ]
    }
   ],
   "execution_count": 5
  },
  {
   "cell_type": "markdown",
   "id": "f2da1eee-5349-4411-8457-86ea47d4f41a",
   "metadata": {},
   "source": [
    "### 4. Creating life-cycle inventories"
   ]
  },
  {
   "cell_type": "markdown",
   "id": "99e0d5f8-3009-4075-abc7-b4932d1a7655",
   "metadata": {},
   "source": [
    "The function allowing to create customized inventories is **lci_wind_turbine()**, which admits the following parameters:\n",
    "| Parameter                   | Description                                                  | Default value                                   | Type                                                           |\n",
    "|-----------------------------|--------------------------------------------------------------|-------------------------------------------------|----------------------------------------------------------------|\n",
    "| Park name                   | Name of the wind park                                        | No                                              | str                                                            |\n",
    "| Park power                  | Total power of the wind park [MW]                            | No                                              | float                                                          |\n",
    "| Number of turbines          | Number of turbines in the wind park                          | No                                              | int                                                            |\n",
    "| Park location               | Abbreviation of the country (ISO 3166-1 alpha-2 codes)       | No                                              | str                                                            |\n",
    "| Park coordinates            | WGS84 coordinates of the wind park (latitude, longitude)     | No                                              | tuple                                                          |\n",
    "| Manufacturer                | Name of the turbine manufacturer     | LM Wind                                         | str [Literal['LM Wind','Vestas','Siemens Gamesa','Enercon','Nordex']                   |\n",
    "| Rotor diameter              | Diameter of the rotor (in meters)                            | No                                              | int                                                            |\n",
    "| Turbine rated power         | Nominal power of the individual turbines [MW]                | No                                              | float                                                          |\n",
    "| Hub height                  | Height of the turbine (in meters)                           | No                                              | float                                                          |\n",
    "| Regression adjustment       | Calculate mass of steel as a function of 'D2h' or 'hub height'| D2h                                            | Literal['D2h', 'Hub height']\n",
    " |\n",
    "| Commissioning year          | Year when the turbine started operation                      | No                                              | int                                                            |\n",
    "| Recycled steel share        | Recycled content share of steel                       | Data from Eurofer (2012-2021)                   | float                                                          |\n",
    "| Land use permanent intensity | Permanent direct land transformation per MW                 | 3000 m²/MW                                      | float                                                          |\n",
    "| Electricity mix steel       | Country of the electricity mix for steel production                         | Mix per Eurofer data by country                 | Optional[Literal['Norway', 'Europe', 'Poland']]                |\n",
    "| Generator type              | Gearbox and type of generator                                | Doubly fed induction generator (gearbox)        | Optional[Literal['dd_eesg', 'dd_pmsg', 'gb_pmsg', 'gb_dfig']]  |                                                           |\n",
    "| Land cover type             | Land cover type prior to turbine installation                | No                                              | str[Literal['industrial, from','crops, non-irrigated','unspecified', 'row crops', 'shrubland', 'grassland', 'pasture', 'forest', 'industrial','road']                                              |\n",
    "| End-of-life scenario        | Scenario based on material recycling rates (1: baseline, 2: optimistic, 3: pessimistic)                   | Baseline                                        | str                                                            |\n",
    "| Lifetime                    | Expected lifetime of the turbine (years)                            | 20 years                                        | int                                                            |\n",
    "| Capacity factor             | Ratio of average delivered electricity to maximum theoretical production | 0.24                                            | float                                                          |\n",
    "| Attrition rate              | Annual efficiency reduction due to wear                      | 0.009                                           | float                                                          |\n",
    "\n",
    "Parameters without a default value must be filled. Parameters with a default value are not compulsory but can be adapted to the user needs."
   ]
  },
  {
   "cell_type": "markdown",
   "id": "6838a86a-3d5c-47ca-a9ea-35458f4c5111",
   "metadata": {},
   "source": [
    "### 4.1. Example of application"
   ]
  },
  {
   "cell_type": "markdown",
   "id": "dd10bf67-a213-4929-9b90-cf2ae7051213",
   "metadata": {},
   "source": [
    "Let's build an imaginary 100 MW wind park ('my_wind_park') of 20 turbines, 5 MW each, in a random location in Spain. \\\n",
    "The manufacturer of the turbine is Siemens Gamesa, with turbines of 130 m rotor diameter, 140 m hub height and a gear-boxed double-fed induction generation drivetrain. \\\n",
    "The park is commissioned in 2020 and is expected to last for 25 years. \\\n",
    "The expected initial capacity factor is 24%. \\\n",
    "**IMPORTANT**: make sure the name you give to the park (park_name variable) has not been used previously in your database! This means, you cannot create two wind parks with the exact same name in the same database."
   ]
  },
  {
   "cell_type": "code",
   "id": "a364614c-c223-4c02-b04d-308c070c2ff6",
   "metadata": {
    "ExecuteTime": {
     "end_time": "2025-06-04T10:30:12.156311Z",
     "start_time": "2025-06-04T10:30:05.599266Z"
    }
   },
   "source": [
    "lci_wind_turbine(park_name='my_wind_park', \n",
    "                 park_power=100.0, \n",
    "                 number_of_turbines=20, \n",
    "                 park_location='ES', \n",
    "                 park_coordinates=(41.502, -1.126), \n",
    "                 manufacturer='Siemens Gamesa', \n",
    "                 rotor_diameter=130, \n",
    "                 turbine_power=5.0, \n",
    "                 hub_height=140, \n",
    "                 commissioning_year=2020, \n",
    "                 generator_type='gb_dfig',\n",
    "                 lifetime=25,  \n",
    "                 cf=0.24,\n",
    "                 new_db=new_db,\n",
    "                 biosphere3=biosphere3,\n",
    "                 cutoff391=cutoff391\n",
    "                )"
   ],
   "outputs": [
    {
     "name": "stdout",
     "output_type": "stream",
     "text": [
      "WARNING. You did not select any electricity_mix. The mean shares by country applied in the steel industry between 2017 and 2021 will be used\n",
      "Electricity mix: European mix provided by Eurofer\n",
      "Time-adjusted cf applied with an attrition coefficient of 0.009\n"
     ]
    },
    {
     "data": {
      "text/plain": [
       "({'Low alloy steel': 7455354.805104657,\n",
       "  'Chromium steel': 1043984.2519468605,\n",
       "  'Cast iron': 1681063.4157545082,\n",
       "  'Aluminium': 161845.10502487788,\n",
       "  'Copper': 91393.59437802702,\n",
       "  'Epoxy resin': 311104.78386133275,\n",
       "  'Rubber': 27173.579357149145,\n",
       "  'PUR': 50570.48514631777,\n",
       "  'PVC': 135072.30653721892,\n",
       "  'Fiberglass': 712338.5970491616,\n",
       "  'electronics': 24041.93530003225,\n",
       "  'Electrics': 76255.71393607548,\n",
       "  'Lubricating oil': 31331.69045155677,\n",
       "  'Low alloy steel_foundations': 2052452.3349240404,\n",
       "  'Chromium steel_foundations': 171367.63623532938,\n",
       "  'Concrete_foundations': 15677.101183848605,\n",
       "  'Praseodymium': 0.0,\n",
       "  'Neodymium': 1200.0,\n",
       "  'Dysprosium': 200.0,\n",
       "  'Terbium': 0.0,\n",
       "  'Boron': 0.0,\n",
       "  'PE': 1129.9114902604465},\n",
       " 50000.0,\n",
       " 462500.0)"
      ]
     },
     "execution_count": 6,
     "metadata": {},
     "output_type": "execute_result"
    }
   ],
   "execution_count": 6
  },
  {
   "cell_type": "markdown",
   "id": "df37f68a-1880-440e-8d26-47e00e647eff",
   "metadata": {},
   "source": [
    "### 4.2 Exploring the inventories"
   ]
  },
  {
   "cell_type": "markdown",
   "id": "53392a0c-2387-4605-9dd4-371cce59892f",
   "metadata": {},
   "source": [
    "The inventories are given by unit of turbine, unit of park, and kWh (for both turbine and park). In this example, the inventoris would have the following names (and codes):\n",
    "\n",
    "- Turbine (FU=unit): my_wind_park_single_turbine\n",
    "- Turbine (FU=kWh): my_wind_park_turbine_kwh\n",
    "- Park (FU=unit): my_wind_park_10.0\n",
    "- Park (FU=kWh): my_wind_park_kwh\n",
    "\n",
    "You can access them as follows:"
   ]
  },
  {
   "cell_type": "code",
   "id": "f2d64f15-b76c-4afc-9a81-a223205f6f39",
   "metadata": {
    "ExecuteTime": {
     "end_time": "2025-06-04T10:39:06.701609Z",
     "start_time": "2025-06-04T10:39:06.694272Z"
    }
   },
   "source": [
    "# park (FU=unit)\n",
    "park_unit_act = bd.Database(consts.NEW_DB_NAME).get('my_wind_park_100.0')\n",
    "park_kwh_act = bd.Database(consts.NEW_DB_NAME).get('my_wind_park_park_kwh')\n",
    "turbine_unit_act = bd.Database(consts.NEW_DB_NAME).get('my_wind_park_single_turbine')\n",
    "turbine_kwh_act = bd.Database(consts.NEW_DB_NAME).get('my_wind_park_turbine_kwh')"
   ],
   "outputs": [],
   "execution_count": 7
  },
  {
   "metadata": {},
   "cell_type": "markdown",
   "source": [
    "Altrnatively, if your interest is only the materials of one turbine, you can access them with the following code (and name):\n",
    "- Turbine materials: my_wind_park_materials"
   ],
   "id": "d4fb4f4dd6b38ddb"
  },
  {
   "metadata": {
    "ExecuteTime": {
     "end_time": "2025-06-04T10:46:45.196158Z",
     "start_time": "2025-06-04T10:46:45.170253Z"
    }
   },
   "cell_type": "code",
   "source": [
    "turbine_act = bd.Database(consts.NEW_DB_NAME).get('my_wind_park_materials')\n",
    "for ex in turbine_act.technosphere():\n",
    "    print(f'{ex.input[\"name\"]}: {ex[\"amount\"]} ({ex.unit})')\n",
    "# Note that steel and chromium steel appear both twice. The first appearance corresponds to the turbine, and the second one to the foundations."
   ],
   "id": "7fede6f83d7c7ab4",
   "outputs": [
    {
     "name": "stdout",
     "output_type": "stream",
     "text": [
      "market for steel, low-alloyed, 2019: 372767.74025523284 (kilogram)\n",
      "market for steel, chromium steel 18/8: 52199.21259734302 (kilogram)\n",
      "market for cast iron: 84053.17078772541 (kilogram)\n",
      "market for aluminium, wrought alloy: 7905.839208953751 (kilogram)\n",
      "market for copper, cathode: 4081.5585276110005 (kilogram)\n",
      "market for epoxy resin, liquid: 15555.239193066636 (kilogram)\n",
      "market for synthetic rubber: 1358.6789678574573 (kilogram)\n",
      "market for polyurethane, rigid foam: 2528.5242573158885 (kilogram)\n",
      "market for polyvinylchloride, bulk polymerised: 6728.101196435709 (kilogram)\n",
      "market for glass fibre reinforced plastic, polyamide, injection moulded: 39178.62283770389 (kilogram)\n",
      "market for electronics, for control units: 1202.0967650016125 (kilogram)\n",
      "cable production, unspecified: 3812.785696803774 (kilogram)\n",
      "market for lubricating oil: 1566.5845225778385 (kilogram)\n",
      "market for steel, low-alloyed, 2019: 102622.61674620202 (kilogram)\n",
      "market for steel, chromium steel 18/8: 8568.381811766469 (kilogram)\n",
      "market group for concrete, normal strength: 783.8550591924302 (cubic meter)\n",
      "market for praseodymium oxide: 0.0 (kilogram)\n",
      "market for neodymium oxide: 60.0 (kilogram)\n",
      "market for dysprosium oxide: 10.0 (kilogram)\n",
      "market for terbium oxide: 0.0 (kilogram)\n",
      "market for boron carbide: 0.0 (kilogram)\n"
     ]
    }
   ],
   "execution_count": 17
  },
  {
   "cell_type": "markdown",
   "id": "b8ec0a33-add1-4ca4-b97e-6b559ba08175",
   "metadata": {},
   "source": [
    "### 4.3 Calculating LCIA scores"
   ]
  },
  {
   "cell_type": "markdown",
   "id": "da3392af-4075-45d8-9326-05fae5b0a7f3",
   "metadata": {},
   "source": [
    "LCA impacts of a park or an individual turbine of the park can be calculated with lca_wind_turbine(). It returns two dictionaries: the first one being results per unit and the second one being results per kWh. Default results are given per turbine. For the whole park, you must set the parameter 'turbine' to False. ReCiPe 2016 v1.03, midpoint (H) is the default LCIA method. It can be manually changed by giving the parameter 'method' another name of a method in Brightway.\n",
    "\n",
    "Here an example of application for the whole park. The first dictionary saves scores per FU=unit, and the second per FU=1kWh"
   ]
  },
  {
   "cell_type": "code",
   "id": "9c7b4a9c-3ef1-4fd8-9c0f-28ae212c0368",
   "metadata": {
    "ExecuteTime": {
     "end_time": "2025-06-04T10:39:12.109215Z",
     "start_time": "2025-06-04T10:39:10.897116Z"
    }
   },
   "source": [
    "lcia_scores_unit, lcia_scores_kwh = lca_wind_turbine(park_name='my_wind_park', park_power=100.0, method='EF v3.1', turbine=False, new_db=new_db)\n",
    "print(f'LCIA scores for (FU = one wind park unit) {lcia_scores_unit}')\n",
    "print(f'LCIA scores for (FU = one kwh) {lcia_scores_kwh}')"
   ],
   "outputs": [
    {
     "name": "stdout",
     "output_type": "stream",
     "text": [
      "Functional unit: 1 wind park\n",
      "LCIA methods: EF v3.1\n",
      "CF: 0.24. Attrition rate: 0.009\n",
      "LCIA scores for (FU = one wind park unit) {'acidification': 303732.4653580715, 'climate change': 47764088.43534482, 'climate change: biogenic': -2009013.548787162, 'climate change: fossil': 49675074.63424427, 'climate change: land use and land use change': 98027.34988771891, 'ecotoxicity: freshwater': 442833117.23562014, 'ecotoxicity: freshwater, inorganics': 385242510.65613145, 'ecotoxicity: freshwater, organics': 57590606.5794886, 'energy resources: non-renewable': 597617566.6492939, 'eutrophication: freshwater': 23115.767094935065, 'eutrophication: marine': 58734.59603431635, 'eutrophication: terrestrial': 544508.5643222758, 'human toxicity: carcinogenic': 0.41122857510350774, 'human toxicity: carcinogenic, inorganics': 0.338379524509248, 'human toxicity: carcinogenic, organics': 0.07284905059425971, 'human toxicity: non-carcinogenic': 2.2947183965575038, 'human toxicity: non-carcinogenic, inorganics': 2.212793366462607, 'human toxicity: non-carcinogenic, organics': 0.08192503009489692, 'ionising radiation: human health': 3425946.1198684075, 'land use': 7806048992.958238, 'material resources: metals/minerals': 1861.4279635349708, 'ozone depletion': 1.0798767087462242, 'particulate matter formation': 3.542751873525699, 'photochemical oxidant formation: human health': 214071.59885164318, 'water use': 22807560.729114506}\n",
      "LCIA scores for (FU = one kwh) {'acidification': 6.483065170657522e-05, 'climate change': 0.010195080653572306, 'climate change: biogenic': -0.00042881704299098996, 'climate change: fossil': 0.010602974095357882, 'climate change: land use and land use change': 2.09236012054135e-05, 'ecotoxicity: freshwater': 0.09452120817507635, 'ecotoxicity: freshwater, inorganics': 0.08222869096812047, 'ecotoxicity: freshwater, organics': 0.012292517206955863, 'energy resources: non-renewable': 0.12755941736915064, 'eutrophication: freshwater': 4.933981106350706e-06, 'eutrophication: marine': 1.2536697827603387e-05, 'eutrophication: terrestrial': 0.00011622348319995531, 'human toxicity: carcinogenic': 8.777532718768417e-11, 'human toxicity: carcinogenic, inorganics': 7.222594750361468e-11, 'human toxicity: carcinogenic, organics': 1.5549379684069465e-11, 'human toxicity: non-carcinogenic': 4.897997616307062e-10, 'human toxicity: non-carcinogenic, inorganics': 4.723131452893431e-10, 'human toxicity: non-carcinogenic, organics': 1.7486616341363077e-11, 'ionising radiation: human health': 0.0007312564345100192, 'land use': 1.6661743513994383, 'material resources: metals/minerals': 3.9731540663112136e-07, 'ozone depletion': 2.3049597516101804e-10, 'particulate matter formation': 7.561882215145894e-10, 'photochemical oxidant formation: human health': 4.5692847648206626e-05, 'water use': 0.004868195515953893}\n"
     ]
    }
   ],
   "execution_count": 8
  },
  {
   "cell_type": "markdown",
   "id": "ea8619d7-453f-413a-a3e8-3b5a60530814",
   "metadata": {},
   "source": [
    "Alternatively, you can give it a certain set of indicators of your choice as a list with the variable 'indicators'. Example:"
   ]
  },
  {
   "cell_type": "code",
   "id": "72ce1451-3bf7-4167-8392-cb1bcc93b258",
   "metadata": {
    "ExecuteTime": {
     "end_time": "2025-06-04T10:39:38.256782Z",
     "start_time": "2025-06-04T10:39:37.907135Z"
    }
   },
   "source": [
    "lcia_scores_unit, lcia_scores_kwh = lca_wind_turbine(park_name='my_wind_park', park_power=100.0, method='EF v3.1', \n",
    "                               indicators=[('CML v4.8 2016 no LT', 'acidification no LT', 'acidification (incl. fate, average Europe total, A&B) no LT'), \n",
    "                                           ('Cumulative Energy Demand (CED)', 'energy resources: renewable', 'energy content (HHV)'),\n",
    "                                           ('Ecological Scarcity 2021 no LT', 'climate change no LT', 'global warming potential (GWP100) no LT')\n",
    "                                          ], \n",
    "                               turbine=False, new_db=new_db)\n",
    "print(f'LCIA scores for (FU = one wind park unit) {lcia_scores_unit}')\n",
    "print(f'LCIA scores for (FU = one kwh) {lcia_scores_kwh}')"
   ],
   "outputs": [
    {
     "name": "stdout",
     "output_type": "stream",
     "text": [
      "Functional unit: 1 wind park\n",
      "LCIA methods: ('CML v4.8 2016 no LT', 'acidification no LT', 'acidification (incl. fate, average Europe total, A&B) no LT'), ('Cumulative Energy Demand (CED)', 'energy resources: renewable', 'energy content (HHV)'), ('Ecological Scarcity 2021 no LT', 'climate change no LT', 'global warming potential (GWP100) no LT')\n",
      "CF: 0.24. Attrition rate: 0.009\n",
      "LCIA scores for (FU = one wind park unit) {'acidification no LT': 253022.12970315394, 'energy resources: renewable': 107314756.35967636, 'climate change no LT': 50247151912.21247}\n",
      "LCIA scores for (FU = one kwh) {'acidification no LT': 5.400670470146417e-05, 'energy resources: renewable': 0.022905966223690243, 'climate change no LT': 10.725082025813983}\n"
     ]
    }
   ],
   "execution_count": 9
  },
  {
   "cell_type": "markdown",
   "id": "edfd48cd-7d1e-408d-9928-a99866d55b0f",
   "metadata": {},
   "source": [
    "### 4.4 Another example with land use focus"
   ]
  },
  {
   "cell_type": "markdown",
   "id": "99600baa-9e7c-43de-85cf-50d884a56331",
   "metadata": {},
   "source": [
    "Now let's build another wind park changing a bit the land use related parameters. Let's say we know the original land where the turbine will be built is a pasture. Let's say we also know that the permanent land use intensity is smaller than the default number we use. This parameter should include the squared meters per MW of land that will be occupied by permanent access roads, transformer, substation and the turbines themselves. We will use an intensity of 1000 m2/MW this time."
   ]
  },
  {
   "cell_type": "code",
   "id": "16719762-6078-4e50-8754-829ef4054f28",
   "metadata": {
    "ExecuteTime": {
     "end_time": "2025-06-04T10:39:50.839636Z",
     "start_time": "2025-06-04T10:39:48.050368Z"
    }
   },
   "source": [
    "lci_wind_turbine(park_name='my_wind_park_LandUse', \n",
    "                 park_power=100.0, \n",
    "                 number_of_turbines=20, \n",
    "                 park_location='ES', \n",
    "                 park_coordinates=(41.502, -1.126), \n",
    "                 manufacturer='Siemens Gamesa', \n",
    "                 rotor_diameter=130, \n",
    "                 turbine_power=5.0, \n",
    "                 hub_height=140, \n",
    "                 commissioning_year=2020, \n",
    "                 generator_type='gb_dfig',  \n",
    "                 lifetime=25,  \n",
    "                 cf=0.24,\n",
    "                 land_use_permanent_intensity=1000,\n",
    "                 land_cover_type='pasture',\n",
    "                 new_db=new_db,\n",
    "                 biosphere3=biosphere3,\n",
    "                 cutoff391=cutoff391\n",
    "                )"
   ],
   "outputs": [
    {
     "name": "stdout",
     "output_type": "stream",
     "text": [
      "WARNING. You did not select any electricity_mix. The mean shares by country applied in the steel industry between 2017 and 2021 will be used\n",
      "Electricity mix: European mix provided by Eurofer\n",
      "Time-adjusted cf applied with an attrition coefficient of 0.009\n"
     ]
    },
    {
     "data": {
      "text/plain": [
       "({'Low alloy steel': 7455354.805104657,\n",
       "  'Chromium steel': 1043984.2519468605,\n",
       "  'Cast iron': 1681063.4157545082,\n",
       "  'Aluminium': 161845.10502487788,\n",
       "  'Copper': 91393.59437802702,\n",
       "  'Epoxy resin': 311104.78386133275,\n",
       "  'Rubber': 27173.579357149145,\n",
       "  'PUR': 50570.48514631777,\n",
       "  'PVC': 135072.30653721892,\n",
       "  'Fiberglass': 712338.5970491616,\n",
       "  'electronics': 24041.93530003225,\n",
       "  'Electrics': 76255.71393607548,\n",
       "  'Lubricating oil': 31331.69045155677,\n",
       "  'Low alloy steel_foundations': 2052452.3349240404,\n",
       "  'Chromium steel_foundations': 171367.63623532938,\n",
       "  'Concrete_foundations': 15677.101183848605,\n",
       "  'Praseodymium': 0.0,\n",
       "  'Neodymium': 1200.0,\n",
       "  'Dysprosium': 200.0,\n",
       "  'Terbium': 0.0,\n",
       "  'Boron': 0.0,\n",
       "  'PE': 1129.9114902604465},\n",
       " 40000.0,\n",
       " 212500.0)"
      ]
     },
     "execution_count": 10,
     "metadata": {},
     "output_type": "execute_result"
    }
   ],
   "execution_count": 10
  },
  {
   "cell_type": "markdown",
   "id": "32f9198b-3627-4892-818d-481d79611886",
   "metadata": {},
   "source": [
    "And compare the land-use impacts with the previous wind park we created:"
   ]
  },
  {
   "cell_type": "code",
   "id": "af0704fc-3122-4962-ab77-43e02eb33d9c",
   "metadata": {
    "ExecuteTime": {
     "end_time": "2025-06-04T10:39:55.386490Z",
     "start_time": "2025-06-04T10:39:54.397645Z"
    }
   },
   "source": [
    "previous_park_score_unit, previous_park_score_kwh = lca_wind_turbine(park_name='my_wind_park', park_power=100.0, method='EF v3.1', \n",
    "                               indicators=[('EF v3.1', 'land use', 'soil quality index')\n",
    "                                          ], \n",
    "                               turbine=False, new_db=new_db)\n",
    "new_park_score_unit, new_park_score_kwh  = lca_wind_turbine(park_name='my_wind_park_LandUse', park_power=100.0, method='EF v3.1', \n",
    "                               indicators=[('EF v3.1', 'land use', 'soil quality index')\n",
    "                                          ], \n",
    "                               turbine=False, new_db=new_db)\n",
    "print(f'Land Use score previous park (FU=one park): {previous_park_score_unit}; (FU=1kWh): {previous_park_score_kwh}')\n",
    "print(f'Land Use score new park(FU=one park): {new_park_score_unit}; (FU=1kWh): {new_park_score_kwh}')"
   ],
   "outputs": [
    {
     "name": "stdout",
     "output_type": "stream",
     "text": [
      "Functional unit: 1 wind park\n",
      "LCIA methods: ('EF v3.1', 'land use', 'soil quality index')\n",
      "CF: 0.24. Attrition rate: 0.009\n",
      "Functional unit: 1 wind park\n",
      "LCIA methods: ('EF v3.1', 'land use', 'soil quality index')\n",
      "CF: 0.24. Attrition rate: 0.009\n",
      "Land Use score previous park (FU=one park): {'land use': 7806048992.958238}; (FU=1kWh): {'land use': 1.6661743513994383}\n",
      "Land Use score new park(FU=one park): {'land use': 5751582028.022938}; (FU=1kWh): {'land use': 1.2276554328196807}\n"
     ]
    }
   ],
   "execution_count": 11
  },
  {
   "cell_type": "markdown",
   "id": "f91c4052-316f-4cd0-9c19-1fc718f78358",
   "metadata": {},
   "source": [
    "### 4.5 Creating a future wind park"
   ]
  },
  {
   "cell_type": "markdown",
   "id": "fd77e9f3-d492-4c90-b922-12b8f016288c",
   "metadata": {},
   "source": [
    "There are some input variables that allow to model more 'futuristic' wind turbine designs. For instance, if the turbine you are designing is going to be installed 10 years from now, you may want to consider that the steel industry (with a huge impact in wind turbines) has improved its recycling shares, and is using a cleaner electricity mix. Moreover, you can adapt the end-of-life scenario to consider optimistic recycling rates. Finally, you may want to add a higher capacity factor (due to, for instance, technichal improvements). A summary of how would this be implemented:\n",
    "- Steel recycling rate improvement: recycled_share_steel=0.6 (European recycled steel share in 2021 was 0.435)\n",
    "- Steel electricity mix improvement: electricity_mix_steel='Norway' (only options: 'Norway', 'Europe', 'Poland')\n",
    "- Optimistic recycling rates (rr): eol_scenario=2 (eol_scenario=1 means current rr, eol_scenario=2 means optimistic rr, eol_scenario=3 means pessimistic rr)\n",
    "- Higher capacity factor: cf=0.4 (This is a 40%. The European mean in 2024 was 24%)"
   ]
  },
  {
   "cell_type": "code",
   "id": "d935e5a2-45e8-48f5-aeeb-29061b2c1cc2",
   "metadata": {
    "ExecuteTime": {
     "end_time": "2025-06-04T10:40:12.985099Z",
     "start_time": "2025-06-04T10:40:00.327803Z"
    }
   },
   "source": [
    "lci_wind_turbine(park_name='my_wind_park_future',\n",
    "                 park_power=100.0,\n",
    "                 number_of_turbines=20,\n",
    "                 park_location='ES',\n",
    "                 park_coordinates=(41.502, -1.126),\n",
    "                 manufacturer='Siemens Gamesa',\n",
    "                 rotor_diameter=130,\n",
    "                 turbine_power=5.0,\n",
    "                 hub_height=140,\n",
    "                 commissioning_year=2030,\n",
    "                 generator_type='gb_dfig',\n",
    "                 lifetime=25,\n",
    "                 cf=0.40,\n",
    "                 eol_scenario=2,\n",
    "                 electricity_mix_steel='Norway',\n",
    "                 recycled_share_steel=0.6,\n",
    "                 new_db=new_db,\n",
    "                 biosphere3=biosphere3,\n",
    "                 cutoff391=cutoff391\n",
    "                )"
   ],
   "outputs": [
    {
     "name": "stdout",
     "output_type": "stream",
     "text": [
      "Time-adjusted cf applied with an attrition coefficient of 0.009\n"
     ]
    },
    {
     "data": {
      "text/plain": [
       "({'Low alloy steel': 7455354.805104657,\n",
       "  'Chromium steel': 1043984.2519468605,\n",
       "  'Cast iron': 1681063.4157545082,\n",
       "  'Aluminium': 161845.10502487788,\n",
       "  'Copper': 91393.59437802702,\n",
       "  'Epoxy resin': 311104.78386133275,\n",
       "  'Rubber': 27173.579357149145,\n",
       "  'PUR': 50570.48514631777,\n",
       "  'PVC': 135072.30653721892,\n",
       "  'Fiberglass': 712338.5970491616,\n",
       "  'electronics': 24041.93530003225,\n",
       "  'Electrics': 76255.71393607548,\n",
       "  'Lubricating oil': 31331.69045155677,\n",
       "  'Low alloy steel_foundations': 2052452.3349240404,\n",
       "  'Chromium steel_foundations': 171367.63623532938,\n",
       "  'Concrete_foundations': 15677.101183848605,\n",
       "  'Praseodymium': 0.0,\n",
       "  'Neodymium': 1200.0,\n",
       "  'Dysprosium': 200.0,\n",
       "  'Terbium': 0.0,\n",
       "  'Boron': 0.0,\n",
       "  'PE': 1129.9114902604465},\n",
       " 50000.0,\n",
       " 462500.0)"
      ]
     },
     "execution_count": 12,
     "metadata": {},
     "output_type": "execute_result"
    }
   ],
   "execution_count": 12
  },
  {
   "metadata": {},
   "cell_type": "markdown",
   "source": "And compare climate change impacts with the previous turbine modelled in section 4.1 in this notebook:",
   "id": "cc1dbc063cf263be"
  },
  {
   "metadata": {
    "ExecuteTime": {
     "end_time": "2025-06-04T10:41:49.503755Z",
     "start_time": "2025-06-04T10:41:48.821605Z"
    }
   },
   "cell_type": "code",
   "source": [
    "previous_park_score_unit, previous_park_score_kwh = lca_wind_turbine(park_name='my_wind_park', park_power=100.0, method='EF v3.1',\n",
    "                               indicators=[('EF v3.1', 'climate change', 'global warming potential (GWP100)')\n",
    "                                          ],\n",
    "                               turbine=False, new_db=new_db)\n",
    "new_park_score_unit, new_park_score_kwh  = lca_wind_turbine(park_name='my_wind_park_future', park_power=100.0, method='EF v3.1',\n",
    "                               indicators=[('EF v3.1', 'climate change', 'global warming potential (GWP100)')\n",
    "                                          ],\n",
    "                               turbine=False, new_db=new_db)\n",
    "print(f'Climate Change score previous park (FU=one park): {previous_park_score_unit}; (FU=1kWh): {previous_park_score_kwh}')\n",
    "print(f'Climate Change score new park(FU=one park): {new_park_score_unit}; (FU=1kWh): {new_park_score_kwh}')"
   ],
   "id": "673c80c439339385",
   "outputs": [
    {
     "name": "stdout",
     "output_type": "stream",
     "text": [
      "Functional unit: 1 wind park\n",
      "LCIA methods: ('EF v3.1', 'climate change', 'global warming potential (GWP100)')\n",
      "CF: 0.24. Attrition rate: 0.009\n",
      "Functional unit: 1 wind park\n",
      "LCIA methods: ('EF v3.1', 'climate change', 'global warming potential (GWP100)')\n",
      "CF: 0.4. Attrition rate: 0.009\n",
      "Climate Change score previous park (FU=one park): {'climate change': 49841206.58695629}; (FU=1kWh): {'climate change': 0.01063843439016338}\n",
      "Climate Change score new park(FU=one park): {'climate change': 45450513.25961278}; (FU=1kWh): {'climate change': 0.00582075383860986}\n"
     ]
    }
   ],
   "execution_count": 14
  },
  {
   "cell_type": "markdown",
   "id": "e8ec2ce3-578f-4e99-8c09-1ea389a7aaeb",
   "metadata": {},
   "source": [
    "### 5. Importing example turbine datasets"
   ]
  },
  {
   "cell_type": "code",
   "id": "b7e616ad-32d8-4f1d-91de-ef70355e53de",
   "metadata": {
    "ExecuteTime": {
     "end_time": "2025-06-04T11:15:50.488524Z",
     "start_time": "2025-06-04T11:15:42.015733Z"
    }
   },
   "source": "## NOTE: do it with backup!!\n",
   "outputs": [
    {
     "name": "stdout",
     "output_type": "stream",
     "text": [
      "Extracted 1 worksheets in 1.77 seconds\n",
      "Applying strategy: link_iterable_by_fields\n",
      "Couldn't apply strategy link_iterable_by_fields:\n",
      "\tNot all datasets in database to be linked have ``database`` or ``code`` attributes\n",
      "Applying strategy: csv_restore_tuples\n",
      "Applying strategy: csv_restore_booleans\n",
      "Applying strategy: csv_numerize\n",
      "Applying strategy: csv_drop_unknown\n",
      "Applying strategy: csv_add_missing_exchanges_section\n",
      "Applying strategy: normalize_units\n",
      "Applying strategy: normalize_biosphere_categories\n",
      "Applying strategy: normalize_biosphere_names\n",
      "Applying strategy: strip_biosphere_exc_locations\n",
      "Applying strategy: set_code_by_activity_hash\n",
      "Applying strategy: link_iterable_by_fields\n",
      "Applying strategy: assign_only_product_as_production\n",
      "Applying strategy: link_technosphere_by_activity_hash\n",
      "Applying strategy: drop_falsey_uncertainty_fields_but_keep_zeros\n",
      "Applying strategy: convert_uncertainty_types_to_integers\n",
      "Applying strategy: convert_activity_parameters_to_list\n",
      "Applied 16 strategies in 6.66 seconds\n",
      "341 datasets\n",
      "\t5845 exchanges\n",
      "\tLinks to the following databases:\n",
      "\t\tPV (1754 exchanges)\n",
      "\t\tbiosphere3 (787 exchanges)\n",
      "\t3304 unlinked exchanges (3 types)\n",
      "\t\tType biosphere: 46 unique unlinked exchanges\n",
      "\t\tType production: 341 unique unlinked exchanges\n",
      "\t\tType technosphere: 329 unique unlinked exchanges\n"
     ]
    },
    {
     "data": {
      "text/plain": [
       "(341, 5845, 3304, 0)"
      ]
     },
     "execution_count": 23,
     "metadata": {},
     "output_type": "execute_result"
    }
   ],
   "execution_count": 23
  }
 ],
 "metadata": {
  "kernelspec": {
   "display_name": "Python 3 (ipykernel)",
   "language": "python",
   "name": "python3"
  },
  "language_info": {
   "codemirror_mode": {
    "name": "ipython",
    "version": 3
   },
   "file_extension": ".py",
   "mimetype": "text/x-python",
   "name": "python",
   "nbconvert_exporter": "python",
   "pygments_lexer": "ipython3",
   "version": "3.12.5"
  }
 },
 "nbformat": 4,
 "nbformat_minor": 5
}
